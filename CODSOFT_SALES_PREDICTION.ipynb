{
  "nbformat": 4,
  "nbformat_minor": 0,
  "metadata": {
    "colab": {
      "provenance": []
    },
    "kernelspec": {
      "name": "python3",
      "display_name": "Python 3"
    },
    "language_info": {
      "name": "python"
    }
  },
  "cells": [
    {
      "cell_type": "code",
      "execution_count": 1,
      "metadata": {
        "colab": {
          "base_uri": "https://localhost:8080/"
        },
        "id": "KF8cxL_2jcMY",
        "outputId": "281343de-5b17-4744-a94e-7cd5829ff03b"
      },
      "outputs": [
        {
          "output_type": "stream",
          "name": "stdout",
          "text": [
            "Collecting pyspark\n",
            "  Downloading pyspark-3.5.0.tar.gz (316.9 MB)\n",
            "\u001b[2K     \u001b[90m━━━━━━━━━━━━━━━━━━━━━━━━━━━━━━━━━━━━━━━━\u001b[0m \u001b[32m316.9/316.9 MB\u001b[0m \u001b[31m3.5 MB/s\u001b[0m eta \u001b[36m0:00:00\u001b[0m\n",
            "\u001b[?25h  Preparing metadata (setup.py) ... \u001b[?25l\u001b[?25hdone\n",
            "Requirement already satisfied: py4j==0.10.9.7 in /usr/local/lib/python3.10/dist-packages (from pyspark) (0.10.9.7)\n",
            "Building wheels for collected packages: pyspark\n",
            "  Building wheel for pyspark (setup.py) ... \u001b[?25l\u001b[?25hdone\n",
            "  Created wheel for pyspark: filename=pyspark-3.5.0-py2.py3-none-any.whl size=317425344 sha256=39d315e0b843974a6f31ac691211a9477774c4645108ea9dafe4adeb52a122dc\n",
            "  Stored in directory: /root/.cache/pip/wheels/41/4e/10/c2cf2467f71c678cfc8a6b9ac9241e5e44a01940da8fbb17fc\n",
            "Successfully built pyspark\n",
            "Installing collected packages: pyspark\n",
            "Successfully installed pyspark-3.5.0\n"
          ]
        }
      ],
      "source": [
        "pip install pyspark"
      ]
    },
    {
      "cell_type": "code",
      "source": [
        "from pyspark.sql import SparkSession\n",
        "spark = SparkSession.builder.appName(\"Sales_Prediction\").getOrCreate()"
      ],
      "metadata": {
        "id": "l0o0SFwYj_3W"
      },
      "execution_count": 120,
      "outputs": []
    },
    {
      "cell_type": "code",
      "source": [
        "data = spark.read.csv(\"/content/advertising.csv\", header=True, inferSchema=True)"
      ],
      "metadata": {
        "id": "yuvxI7v4nuul"
      },
      "execution_count": 121,
      "outputs": []
    },
    {
      "cell_type": "code",
      "source": [
        "data.show(25)"
      ],
      "metadata": {
        "colab": {
          "base_uri": "https://localhost:8080/"
        },
        "id": "UjxziEqloJcK",
        "outputId": "c96aae79-9414-4685-9f9e-c35e0e305447"
      },
      "execution_count": 122,
      "outputs": [
        {
          "output_type": "stream",
          "name": "stdout",
          "text": [
            "+-----+-----+---------+-----+\n",
            "|   TV|Radio|Newspaper|Sales|\n",
            "+-----+-----+---------+-----+\n",
            "|230.1| 37.8|     69.2| 22.1|\n",
            "| 44.5| 39.3|     45.1| 10.4|\n",
            "| 17.2| 45.9|     69.3| 12.0|\n",
            "|151.5| 41.3|     58.5| 16.5|\n",
            "|180.8| 10.8|     58.4| 17.9|\n",
            "|  8.7| 48.9|     75.0|  7.2|\n",
            "| 57.5| 32.8|     23.5| 11.8|\n",
            "|120.2| 19.6|     11.6| 13.2|\n",
            "|  8.6|  2.1|      1.0|  4.8|\n",
            "|199.8|  2.6|     21.2| 15.6|\n",
            "| 66.1|  5.8|     24.2| 12.6|\n",
            "|214.7| 24.0|      4.0| 17.4|\n",
            "| 23.8| 35.1|     65.9|  9.2|\n",
            "| 97.5|  7.6|      7.2| 13.7|\n",
            "|204.1| 32.9|     46.0| 19.0|\n",
            "|195.4| 47.7|     52.9| 22.4|\n",
            "| 67.8| 36.6|    114.0| 12.5|\n",
            "|281.4| 39.6|     55.8| 24.4|\n",
            "| 69.2| 20.5|     18.3| 11.3|\n",
            "|147.3| 23.9|     19.1| 14.6|\n",
            "|218.4| 27.7|     53.4| 18.0|\n",
            "|237.4|  5.1|     23.5| 17.5|\n",
            "| 13.2| 15.9|     49.6|  5.6|\n",
            "|228.3| 16.9|     26.2| 20.5|\n",
            "| 62.3| 12.6|     18.3|  9.7|\n",
            "+-----+-----+---------+-----+\n",
            "only showing top 25 rows\n",
            "\n"
          ]
        }
      ]
    },
    {
      "cell_type": "code",
      "source": [
        "data.printSchema()"
      ],
      "metadata": {
        "colab": {
          "base_uri": "https://localhost:8080/"
        },
        "id": "pP0SdpEWoK_z",
        "outputId": "9b73a7e5-570e-4ec8-e378-006e24ca9f78"
      },
      "execution_count": 123,
      "outputs": [
        {
          "output_type": "stream",
          "name": "stdout",
          "text": [
            "root\n",
            " |-- TV: double (nullable = true)\n",
            " |-- Radio: double (nullable = true)\n",
            " |-- Newspaper: double (nullable = true)\n",
            " |-- Sales: double (nullable = true)\n",
            "\n"
          ]
        }
      ]
    },
    {
      "cell_type": "code",
      "source": [
        "data.na.drop()"
      ],
      "metadata": {
        "colab": {
          "base_uri": "https://localhost:8080/"
        },
        "id": "nHeigWBKyCXL",
        "outputId": "dc5354b1-9f52-487f-9270-fe8f2c1cd759"
      },
      "execution_count": 124,
      "outputs": [
        {
          "output_type": "execute_result",
          "data": {
            "text/plain": [
              "DataFrame[TV: double, Radio: double, Newspaper: double, Sales: double]"
            ]
          },
          "metadata": {},
          "execution_count": 124
        }
      ]
    },
    {
      "cell_type": "code",
      "source": [
        "import pandas as pd\n",
        "import numpy as np\n",
        "from sklearn.model_selection import train_test_split\n",
        "from sklearn.linear_model import LinearRegression\n",
        "from sklearn.metrics import mean_squared_error, r2_score\n",
        "\n",
        "data = pd.read_csv(\"/content/advertising.csv\")\n",
        "\n",
        "X = data[['TV', 'Radio', 'Newspaper']]\n",
        "y = data['Sales']\n",
        "\n",
        "X_train, X_test, y_train, y_test = train_test_split(X, y, test_size=0.2, random_state=42)\n",
        "\n",
        "model = LinearRegression()\n",
        "model.fit(X_train, y_train)\n",
        "\n",
        "y_pred = model.predict(X_test)\n",
        "\n",
        "mse = mean_squared_error(y_test, y_pred)\n",
        "rmse = np.sqrt(mse)\n",
        "r2 = r2_score(y_test, y_pred)\n",
        "\n",
        "print(\"Mean Squared Error (MSE):\", mse)\n",
        "print(\"Root Mean Squared Error (RMSE):\", rmse)\n",
        "print(\"R-squared (R2) Score:\", r2)\n",
        "\n",
        "new_data = pd.DataFrame({'TV': [200], 'Radio': [19], 'Newspaper': [32]})\n",
        "new_sales = model.predict(new_data)\n",
        "print()\n",
        "print('-----------------------------------------------------')\n",
        "print(\"Predicted Sales for New Data:\", new_sales)\n",
        "print('-----------------------------------------------------')"
      ],
      "metadata": {
        "colab": {
          "base_uri": "https://localhost:8080/"
        },
        "id": "mF_amGYXyFlS",
        "outputId": "7061fc78-a130-4d86-a6fc-6e5377a98cb5"
      },
      "execution_count": 138,
      "outputs": [
        {
          "output_type": "stream",
          "name": "stdout",
          "text": [
            "Mean Squared Error (MSE): 2.9077569102710896\n",
            "Root Mean Squared Error (RMSE): 1.7052146229349223\n",
            "R-squared (R2) Score: 0.9059011844150826\n",
            "\n",
            "-----------------------------------------------------\n",
            "Predicted Sales for New Data: [17.67271515]\n",
            "-----------------------------------------------------\n"
          ]
        }
      ]
    },
    {
      "cell_type": "code",
      "source": [
        "import pandas as pd\n",
        "from sklearn.model_selection import train_test_split\n",
        "from sklearn.ensemble import RandomForestRegressor\n",
        "from sklearn.metrics import mean_squared_error, r2_score\n",
        "\n",
        "data = pd.read_csv(\"/content/advertising.csv\")\n",
        "\n",
        "X = data[['TV', 'Radio', 'Newspaper']]\n",
        "y = data['Sales']\n",
        "\n",
        "X_train, X_test, y_train, y_test = train_test_split(X, y, test_size=0.2, random_state=42)\n",
        "\n",
        "model = RandomForestRegressor(n_estimators=100, random_state=42)\n",
        "model.fit(X_train, y_train)\n",
        "\n",
        "y_pred = model.predict(X_test)\n",
        "\n",
        "mse = mean_squared_error(y_test, y_pred)\n",
        "rmse = mse**0.5\n",
        "r2 = r2_score(y_test, y_pred)\n",
        "\n",
        "print(\"Mean Squared Error (MSE):\", mse)\n",
        "print(\"Root Mean Squared Error (RMSE):\", rmse)\n",
        "print(\"R-squared (R2) Score:\", r2)\n",
        "\n",
        "new_data = pd.DataFrame({'TV': [200], 'Radio': [19], 'Newspaper': [32]})\n",
        "new_sales = model.predict(new_data)\n",
        "print()\n",
        "print('-----------------------------------------------------')\n",
        "print(\"Predicted Sales for New Data:\", new_sales)\n",
        "print('-----------------------------------------------------')"
      ],
      "metadata": {
        "colab": {
          "base_uri": "https://localhost:8080/"
        },
        "id": "wY9iUbZ9yaAS",
        "outputId": "3427fed2-fb90-4643-f98b-408ebf0d7ebc"
      },
      "execution_count": 137,
      "outputs": [
        {
          "output_type": "stream",
          "name": "stdout",
          "text": [
            "Mean Squared Error (MSE): 1.4374328500000009\n",
            "Root Mean Squared Error (RMSE): 1.1989298770153327\n",
            "R-squared (R2) Score: 0.9534827934927883\n",
            "\n",
            "-----------------------------------------------------\n",
            "Predicted Sales for New Data: [19.333]\n",
            "-----------------------------------------------------\n"
          ]
        }
      ]
    },
    {
      "cell_type": "code",
      "source": [
        "import pandas as pd\n",
        "from sklearn.model_selection import train_test_split\n",
        "from sklearn.svm import SVR\n",
        "from sklearn.metrics import mean_squared_error, r2_score\n",
        "\n",
        "data = pd.read_csv(\"/content/advertising.csv\")\n",
        "\n",
        "X = data[['TV', 'Radio', 'Newspaper']]\n",
        "y = data['Sales']\n",
        "\n",
        "X_train, X_test, y_train, y_test = train_test_split(X, y, test_size=0.2, random_state=42)\n",
        "\n",
        "model = SVR(kernel='linear', C=1.0)\n",
        "model.fit(X_train, y_train)\n",
        "\n",
        "y_pred = model.predict(X_test)\n",
        "\n",
        "mse = mean_squared_error(y_test, y_pred)\n",
        "rmse = mse**0.5\n",
        "r2 = r2_score(y_test, y_pred)\n",
        "\n",
        "print(\"Mean Squared Error (MSE):\", mse)\n",
        "print(\"Root Mean Squared Error (RMSE):\", rmse)\n",
        "print(\"R-squared (R2) Score:\", r2)\n",
        "\n",
        "\n",
        "new_data = pd.DataFrame({'TV': [200], 'Radio': [19], 'Newspaper': [32]})\n",
        "new_sales = model.predict(new_data)\n",
        "print()\n",
        "print('-----------------------------------------------------')\n",
        "print(\"Predicted Sales for New Data:\", new_sales)\n",
        "print('-----------------------------------------------------')"
      ],
      "metadata": {
        "colab": {
          "base_uri": "https://localhost:8080/"
        },
        "id": "v9dxbzaTzT5f",
        "outputId": "f08e60a1-8c38-4f56-80b9-327509bcbc72"
      },
      "execution_count": 136,
      "outputs": [
        {
          "output_type": "stream",
          "name": "stdout",
          "text": [
            "Mean Squared Error (MSE): 2.8153634623483095\n",
            "Root Mean Squared Error (RMSE): 1.6779044854664134\n",
            "R-squared (R2) Score: 0.9088911571967241\n",
            "\n",
            "-----------------------------------------------------\n",
            "Predicted Sales for New Data: [17.54652009]\n",
            "-----------------------------------------------------\n"
          ]
        }
      ]
    },
    {
      "cell_type": "code",
      "source": [],
      "metadata": {
        "id": "PLqnl0k_z0kQ"
      },
      "execution_count": null,
      "outputs": []
    }
  ]
}