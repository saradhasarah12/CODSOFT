{
  "nbformat": 4,
  "nbformat_minor": 0,
  "metadata": {
    "colab": {
      "provenance": []
    },
    "kernelspec": {
      "name": "python3",
      "display_name": "Python 3"
    },
    "language_info": {
      "name": "python"
    }
  },
  "cells": [
    {
      "cell_type": "code",
      "execution_count": null,
      "metadata": {
        "id": "M6pt3F-rZwKP",
        "colab": {
          "base_uri": "https://localhost:8080/"
        },
        "outputId": "ed9d8a8d-d5e4-47a5-efd8-b55c4bd41a3f"
      },
      "outputs": [
        {
          "output_type": "stream",
          "name": "stdout",
          "text": [
            "Requirement already satisfied: pyspark in /usr/local/lib/python3.10/dist-packages (3.5.0)\n",
            "Requirement already satisfied: py4j==0.10.9.7 in /usr/local/lib/python3.10/dist-packages (from pyspark) (0.10.9.7)\n"
          ]
        }
      ],
      "source": [
        "pip install pyspark"
      ]
    },
    {
      "cell_type": "markdown",
      "source": [
        "**Loading the Dataset and Exploring**"
      ],
      "metadata": {
        "id": "LVubghHwFwPp"
      }
    },
    {
      "cell_type": "code",
      "source": [
        "from pyspark.sql import SparkSession\n",
        "spark = SparkSession.builder.appName(\"Titanic_Survival_Prediction\").getOrCreate()"
      ],
      "metadata": {
        "id": "XAqqOY96BCl_"
      },
      "execution_count": null,
      "outputs": []
    },
    {
      "cell_type": "code",
      "source": [
        "train_data = spark.read.csv(\"/content/train.csv\", header=True, inferSchema=True)"
      ],
      "metadata": {
        "id": "TG2h39FSEgFs"
      },
      "execution_count": null,
      "outputs": []
    },
    {
      "cell_type": "code",
      "source": [
        "train_data.show(5)"
      ],
      "metadata": {
        "colab": {
          "base_uri": "https://localhost:8080/"
        },
        "id": "kf06kRQgEzcj",
        "outputId": "5b2ff3aa-633c-4b53-a106-46d4953c2cf5"
      },
      "execution_count": null,
      "outputs": [
        {
          "output_type": "stream",
          "name": "stdout",
          "text": [
            "+-----------+--------+------+--------------------+------+----+-----+-----+----------------+-------+-----+--------+\n",
            "|PassengerId|Survived|Pclass|                Name|   Sex| Age|SibSp|Parch|          Ticket|   Fare|Cabin|Embarked|\n",
            "+-----------+--------+------+--------------------+------+----+-----+-----+----------------+-------+-----+--------+\n",
            "|          1|       0|     3|Braund, Mr. Owen ...|  male|22.0|    1|    0|       A/5 21171|   7.25| NULL|       S|\n",
            "|          2|       1|     1|Cumings, Mrs. Joh...|female|38.0|    1|    0|        PC 17599|71.2833|  C85|       C|\n",
            "|          3|       1|     3|Heikkinen, Miss. ...|female|26.0|    0|    0|STON/O2. 3101282|  7.925| NULL|       S|\n",
            "|          4|       1|     1|Futrelle, Mrs. Ja...|female|35.0|    1|    0|          113803|   53.1| C123|       S|\n",
            "|          5|       0|     3|Allen, Mr. Willia...|  male|35.0|    0|    0|          373450|   8.05| NULL|       S|\n",
            "+-----------+--------+------+--------------------+------+----+-----+-----+----------------+-------+-----+--------+\n",
            "only showing top 5 rows\n",
            "\n"
          ]
        }
      ]
    },
    {
      "cell_type": "code",
      "source": [
        "train_data.describe"
      ],
      "metadata": {
        "colab": {
          "base_uri": "https://localhost:8080/"
        },
        "id": "njR6W3X4E8AO",
        "outputId": "598c61df-cca4-4e2b-c943-a51e2806fd43"
      },
      "execution_count": null,
      "outputs": [
        {
          "output_type": "execute_result",
          "data": {
            "text/plain": [
              "<bound method DataFrame.describe of DataFrame[PassengerId: int, Survived: int, Pclass: int, Name: string, Sex: string, Age: double, SibSp: int, Parch: int, Ticket: string, Fare: double, Cabin: string, Embarked: string]>"
            ]
          },
          "metadata": {},
          "execution_count": 110
        }
      ]
    },
    {
      "cell_type": "code",
      "source": [
        "train_data.printSchema()"
      ],
      "metadata": {
        "colab": {
          "base_uri": "https://localhost:8080/"
        },
        "id": "j5iOrJ4uFBt_",
        "outputId": "68191740-5557-4fa2-ba08-733f59f09234"
      },
      "execution_count": null,
      "outputs": [
        {
          "output_type": "stream",
          "name": "stdout",
          "text": [
            "root\n",
            " |-- PassengerId: integer (nullable = true)\n",
            " |-- Survived: integer (nullable = true)\n",
            " |-- Pclass: integer (nullable = true)\n",
            " |-- Name: string (nullable = true)\n",
            " |-- Sex: string (nullable = true)\n",
            " |-- Age: double (nullable = true)\n",
            " |-- SibSp: integer (nullable = true)\n",
            " |-- Parch: integer (nullable = true)\n",
            " |-- Ticket: string (nullable = true)\n",
            " |-- Fare: double (nullable = true)\n",
            " |-- Cabin: string (nullable = true)\n",
            " |-- Embarked: string (nullable = true)\n",
            "\n"
          ]
        }
      ]
    },
    {
      "cell_type": "markdown",
      "source": [
        "**Preprocessing the dataset**"
      ],
      "metadata": {
        "id": "_2BcPBYXGH08"
      }
    },
    {
      "cell_type": "markdown",
      "source": [
        "\n",
        "\n",
        "> Exploring the dataset\n",
        "\n"
      ],
      "metadata": {
        "id": "LbLm_CfAG0Mx"
      }
    },
    {
      "cell_type": "code",
      "source": [
        "train_data.toPandas()"
      ],
      "metadata": {
        "colab": {
          "base_uri": "https://localhost:8080/",
          "height": 458
        },
        "id": "iKs2qleaYNz9",
        "outputId": "0ac58466-b5e8-42ef-b0d5-0d94f465994b"
      },
      "execution_count": null,
      "outputs": [
        {
          "output_type": "execute_result",
          "data": {
            "text/plain": [
              "     PassengerId  Survived  Pclass  \\\n",
              "0              1         0       3   \n",
              "1              2         1       1   \n",
              "2              3         1       3   \n",
              "3              4         1       1   \n",
              "4              5         0       3   \n",
              "..           ...       ...     ...   \n",
              "886          887         0       2   \n",
              "887          888         1       1   \n",
              "888          889         0       3   \n",
              "889          890         1       1   \n",
              "890          891         0       3   \n",
              "\n",
              "                                                  Name     Sex   Age  SibSp  \\\n",
              "0                              Braund, Mr. Owen Harris    male  22.0      1   \n",
              "1    Cumings, Mrs. John Bradley (Florence Briggs Th...  female  38.0      1   \n",
              "2                               Heikkinen, Miss. Laina  female  26.0      0   \n",
              "3         Futrelle, Mrs. Jacques Heath (Lily May Peel)  female  35.0      1   \n",
              "4                             Allen, Mr. William Henry    male  35.0      0   \n",
              "..                                                 ...     ...   ...    ...   \n",
              "886                              Montvila, Rev. Juozas    male  27.0      0   \n",
              "887                       Graham, Miss. Margaret Edith  female  19.0      0   \n",
              "888       \"Johnston, Miss. Catherine Helen \"\"Carrie\"\"\"  female   NaN      1   \n",
              "889                              Behr, Mr. Karl Howell    male  26.0      0   \n",
              "890                                Dooley, Mr. Patrick    male  32.0      0   \n",
              "\n",
              "     Parch            Ticket     Fare Cabin Embarked  \n",
              "0        0         A/5 21171   7.2500  None        S  \n",
              "1        0          PC 17599  71.2833   C85        C  \n",
              "2        0  STON/O2. 3101282   7.9250  None        S  \n",
              "3        0            113803  53.1000  C123        S  \n",
              "4        0            373450   8.0500  None        S  \n",
              "..     ...               ...      ...   ...      ...  \n",
              "886      0            211536  13.0000  None        S  \n",
              "887      0            112053  30.0000   B42        S  \n",
              "888      2        W./C. 6607  23.4500  None        S  \n",
              "889      0            111369  30.0000  C148        C  \n",
              "890      0            370376   7.7500  None        Q  \n",
              "\n",
              "[891 rows x 12 columns]"
            ],
            "text/html": [
              "\n",
              "  <div id=\"df-d892eca8-def7-4c03-8f6d-bcbedb5eff8a\" class=\"colab-df-container\">\n",
              "    <div>\n",
              "<style scoped>\n",
              "    .dataframe tbody tr th:only-of-type {\n",
              "        vertical-align: middle;\n",
              "    }\n",
              "\n",
              "    .dataframe tbody tr th {\n",
              "        vertical-align: top;\n",
              "    }\n",
              "\n",
              "    .dataframe thead th {\n",
              "        text-align: right;\n",
              "    }\n",
              "</style>\n",
              "<table border=\"1\" class=\"dataframe\">\n",
              "  <thead>\n",
              "    <tr style=\"text-align: right;\">\n",
              "      <th></th>\n",
              "      <th>PassengerId</th>\n",
              "      <th>Survived</th>\n",
              "      <th>Pclass</th>\n",
              "      <th>Name</th>\n",
              "      <th>Sex</th>\n",
              "      <th>Age</th>\n",
              "      <th>SibSp</th>\n",
              "      <th>Parch</th>\n",
              "      <th>Ticket</th>\n",
              "      <th>Fare</th>\n",
              "      <th>Cabin</th>\n",
              "      <th>Embarked</th>\n",
              "    </tr>\n",
              "  </thead>\n",
              "  <tbody>\n",
              "    <tr>\n",
              "      <th>0</th>\n",
              "      <td>1</td>\n",
              "      <td>0</td>\n",
              "      <td>3</td>\n",
              "      <td>Braund, Mr. Owen Harris</td>\n",
              "      <td>male</td>\n",
              "      <td>22.0</td>\n",
              "      <td>1</td>\n",
              "      <td>0</td>\n",
              "      <td>A/5 21171</td>\n",
              "      <td>7.2500</td>\n",
              "      <td>None</td>\n",
              "      <td>S</td>\n",
              "    </tr>\n",
              "    <tr>\n",
              "      <th>1</th>\n",
              "      <td>2</td>\n",
              "      <td>1</td>\n",
              "      <td>1</td>\n",
              "      <td>Cumings, Mrs. John Bradley (Florence Briggs Th...</td>\n",
              "      <td>female</td>\n",
              "      <td>38.0</td>\n",
              "      <td>1</td>\n",
              "      <td>0</td>\n",
              "      <td>PC 17599</td>\n",
              "      <td>71.2833</td>\n",
              "      <td>C85</td>\n",
              "      <td>C</td>\n",
              "    </tr>\n",
              "    <tr>\n",
              "      <th>2</th>\n",
              "      <td>3</td>\n",
              "      <td>1</td>\n",
              "      <td>3</td>\n",
              "      <td>Heikkinen, Miss. Laina</td>\n",
              "      <td>female</td>\n",
              "      <td>26.0</td>\n",
              "      <td>0</td>\n",
              "      <td>0</td>\n",
              "      <td>STON/O2. 3101282</td>\n",
              "      <td>7.9250</td>\n",
              "      <td>None</td>\n",
              "      <td>S</td>\n",
              "    </tr>\n",
              "    <tr>\n",
              "      <th>3</th>\n",
              "      <td>4</td>\n",
              "      <td>1</td>\n",
              "      <td>1</td>\n",
              "      <td>Futrelle, Mrs. Jacques Heath (Lily May Peel)</td>\n",
              "      <td>female</td>\n",
              "      <td>35.0</td>\n",
              "      <td>1</td>\n",
              "      <td>0</td>\n",
              "      <td>113803</td>\n",
              "      <td>53.1000</td>\n",
              "      <td>C123</td>\n",
              "      <td>S</td>\n",
              "    </tr>\n",
              "    <tr>\n",
              "      <th>4</th>\n",
              "      <td>5</td>\n",
              "      <td>0</td>\n",
              "      <td>3</td>\n",
              "      <td>Allen, Mr. William Henry</td>\n",
              "      <td>male</td>\n",
              "      <td>35.0</td>\n",
              "      <td>0</td>\n",
              "      <td>0</td>\n",
              "      <td>373450</td>\n",
              "      <td>8.0500</td>\n",
              "      <td>None</td>\n",
              "      <td>S</td>\n",
              "    </tr>\n",
              "    <tr>\n",
              "      <th>...</th>\n",
              "      <td>...</td>\n",
              "      <td>...</td>\n",
              "      <td>...</td>\n",
              "      <td>...</td>\n",
              "      <td>...</td>\n",
              "      <td>...</td>\n",
              "      <td>...</td>\n",
              "      <td>...</td>\n",
              "      <td>...</td>\n",
              "      <td>...</td>\n",
              "      <td>...</td>\n",
              "      <td>...</td>\n",
              "    </tr>\n",
              "    <tr>\n",
              "      <th>886</th>\n",
              "      <td>887</td>\n",
              "      <td>0</td>\n",
              "      <td>2</td>\n",
              "      <td>Montvila, Rev. Juozas</td>\n",
              "      <td>male</td>\n",
              "      <td>27.0</td>\n",
              "      <td>0</td>\n",
              "      <td>0</td>\n",
              "      <td>211536</td>\n",
              "      <td>13.0000</td>\n",
              "      <td>None</td>\n",
              "      <td>S</td>\n",
              "    </tr>\n",
              "    <tr>\n",
              "      <th>887</th>\n",
              "      <td>888</td>\n",
              "      <td>1</td>\n",
              "      <td>1</td>\n",
              "      <td>Graham, Miss. Margaret Edith</td>\n",
              "      <td>female</td>\n",
              "      <td>19.0</td>\n",
              "      <td>0</td>\n",
              "      <td>0</td>\n",
              "      <td>112053</td>\n",
              "      <td>30.0000</td>\n",
              "      <td>B42</td>\n",
              "      <td>S</td>\n",
              "    </tr>\n",
              "    <tr>\n",
              "      <th>888</th>\n",
              "      <td>889</td>\n",
              "      <td>0</td>\n",
              "      <td>3</td>\n",
              "      <td>\"Johnston, Miss. Catherine Helen \"\"Carrie\"\"\"</td>\n",
              "      <td>female</td>\n",
              "      <td>NaN</td>\n",
              "      <td>1</td>\n",
              "      <td>2</td>\n",
              "      <td>W./C. 6607</td>\n",
              "      <td>23.4500</td>\n",
              "      <td>None</td>\n",
              "      <td>S</td>\n",
              "    </tr>\n",
              "    <tr>\n",
              "      <th>889</th>\n",
              "      <td>890</td>\n",
              "      <td>1</td>\n",
              "      <td>1</td>\n",
              "      <td>Behr, Mr. Karl Howell</td>\n",
              "      <td>male</td>\n",
              "      <td>26.0</td>\n",
              "      <td>0</td>\n",
              "      <td>0</td>\n",
              "      <td>111369</td>\n",
              "      <td>30.0000</td>\n",
              "      <td>C148</td>\n",
              "      <td>C</td>\n",
              "    </tr>\n",
              "    <tr>\n",
              "      <th>890</th>\n",
              "      <td>891</td>\n",
              "      <td>0</td>\n",
              "      <td>3</td>\n",
              "      <td>Dooley, Mr. Patrick</td>\n",
              "      <td>male</td>\n",
              "      <td>32.0</td>\n",
              "      <td>0</td>\n",
              "      <td>0</td>\n",
              "      <td>370376</td>\n",
              "      <td>7.7500</td>\n",
              "      <td>None</td>\n",
              "      <td>Q</td>\n",
              "    </tr>\n",
              "  </tbody>\n",
              "</table>\n",
              "<p>891 rows × 12 columns</p>\n",
              "</div>\n",
              "    <div class=\"colab-df-buttons\">\n",
              "\n",
              "  <div class=\"colab-df-container\">\n",
              "    <button class=\"colab-df-convert\" onclick=\"convertToInteractive('df-d892eca8-def7-4c03-8f6d-bcbedb5eff8a')\"\n",
              "            title=\"Convert this dataframe to an interactive table.\"\n",
              "            style=\"display:none;\">\n",
              "\n",
              "  <svg xmlns=\"http://www.w3.org/2000/svg\" height=\"24px\" viewBox=\"0 -960 960 960\">\n",
              "    <path d=\"M120-120v-720h720v720H120Zm60-500h600v-160H180v160Zm220 220h160v-160H400v160Zm0 220h160v-160H400v160ZM180-400h160v-160H180v160Zm440 0h160v-160H620v160ZM180-180h160v-160H180v160Zm440 0h160v-160H620v160Z\"/>\n",
              "  </svg>\n",
              "    </button>\n",
              "\n",
              "  <style>\n",
              "    .colab-df-container {\n",
              "      display:flex;\n",
              "      gap: 12px;\n",
              "    }\n",
              "\n",
              "    .colab-df-convert {\n",
              "      background-color: #E8F0FE;\n",
              "      border: none;\n",
              "      border-radius: 50%;\n",
              "      cursor: pointer;\n",
              "      display: none;\n",
              "      fill: #1967D2;\n",
              "      height: 32px;\n",
              "      padding: 0 0 0 0;\n",
              "      width: 32px;\n",
              "    }\n",
              "\n",
              "    .colab-df-convert:hover {\n",
              "      background-color: #E2EBFA;\n",
              "      box-shadow: 0px 1px 2px rgba(60, 64, 67, 0.3), 0px 1px 3px 1px rgba(60, 64, 67, 0.15);\n",
              "      fill: #174EA6;\n",
              "    }\n",
              "\n",
              "    .colab-df-buttons div {\n",
              "      margin-bottom: 4px;\n",
              "    }\n",
              "\n",
              "    [theme=dark] .colab-df-convert {\n",
              "      background-color: #3B4455;\n",
              "      fill: #D2E3FC;\n",
              "    }\n",
              "\n",
              "    [theme=dark] .colab-df-convert:hover {\n",
              "      background-color: #434B5C;\n",
              "      box-shadow: 0px 1px 3px 1px rgba(0, 0, 0, 0.15);\n",
              "      filter: drop-shadow(0px 1px 2px rgba(0, 0, 0, 0.3));\n",
              "      fill: #FFFFFF;\n",
              "    }\n",
              "  </style>\n",
              "\n",
              "    <script>\n",
              "      const buttonEl =\n",
              "        document.querySelector('#df-d892eca8-def7-4c03-8f6d-bcbedb5eff8a button.colab-df-convert');\n",
              "      buttonEl.style.display =\n",
              "        google.colab.kernel.accessAllowed ? 'block' : 'none';\n",
              "\n",
              "      async function convertToInteractive(key) {\n",
              "        const element = document.querySelector('#df-d892eca8-def7-4c03-8f6d-bcbedb5eff8a');\n",
              "        const dataTable =\n",
              "          await google.colab.kernel.invokeFunction('convertToInteractive',\n",
              "                                                    [key], {});\n",
              "        if (!dataTable) return;\n",
              "\n",
              "        const docLinkHtml = 'Like what you see? Visit the ' +\n",
              "          '<a target=\"_blank\" href=https://colab.research.google.com/notebooks/data_table.ipynb>data table notebook</a>'\n",
              "          + ' to learn more about interactive tables.';\n",
              "        element.innerHTML = '';\n",
              "        dataTable['output_type'] = 'display_data';\n",
              "        await google.colab.output.renderOutput(dataTable, element);\n",
              "        const docLink = document.createElement('div');\n",
              "        docLink.innerHTML = docLinkHtml;\n",
              "        element.appendChild(docLink);\n",
              "      }\n",
              "    </script>\n",
              "  </div>\n",
              "\n",
              "\n",
              "<div id=\"df-35034aab-ab76-421a-a43f-3a257b0d6caa\">\n",
              "  <button class=\"colab-df-quickchart\" onclick=\"quickchart('df-35034aab-ab76-421a-a43f-3a257b0d6caa')\"\n",
              "            title=\"Suggest charts.\"\n",
              "            style=\"display:none;\">\n",
              "\n",
              "<svg xmlns=\"http://www.w3.org/2000/svg\" height=\"24px\"viewBox=\"0 0 24 24\"\n",
              "     width=\"24px\">\n",
              "    <g>\n",
              "        <path d=\"M19 3H5c-1.1 0-2 .9-2 2v14c0 1.1.9 2 2 2h14c1.1 0 2-.9 2-2V5c0-1.1-.9-2-2-2zM9 17H7v-7h2v7zm4 0h-2V7h2v10zm4 0h-2v-4h2v4z\"/>\n",
              "    </g>\n",
              "</svg>\n",
              "  </button>\n",
              "\n",
              "<style>\n",
              "  .colab-df-quickchart {\n",
              "      --bg-color: #E8F0FE;\n",
              "      --fill-color: #1967D2;\n",
              "      --hover-bg-color: #E2EBFA;\n",
              "      --hover-fill-color: #174EA6;\n",
              "      --disabled-fill-color: #AAA;\n",
              "      --disabled-bg-color: #DDD;\n",
              "  }\n",
              "\n",
              "  [theme=dark] .colab-df-quickchart {\n",
              "      --bg-color: #3B4455;\n",
              "      --fill-color: #D2E3FC;\n",
              "      --hover-bg-color: #434B5C;\n",
              "      --hover-fill-color: #FFFFFF;\n",
              "      --disabled-bg-color: #3B4455;\n",
              "      --disabled-fill-color: #666;\n",
              "  }\n",
              "\n",
              "  .colab-df-quickchart {\n",
              "    background-color: var(--bg-color);\n",
              "    border: none;\n",
              "    border-radius: 50%;\n",
              "    cursor: pointer;\n",
              "    display: none;\n",
              "    fill: var(--fill-color);\n",
              "    height: 32px;\n",
              "    padding: 0;\n",
              "    width: 32px;\n",
              "  }\n",
              "\n",
              "  .colab-df-quickchart:hover {\n",
              "    background-color: var(--hover-bg-color);\n",
              "    box-shadow: 0 1px 2px rgba(60, 64, 67, 0.3), 0 1px 3px 1px rgba(60, 64, 67, 0.15);\n",
              "    fill: var(--button-hover-fill-color);\n",
              "  }\n",
              "\n",
              "  .colab-df-quickchart-complete:disabled,\n",
              "  .colab-df-quickchart-complete:disabled:hover {\n",
              "    background-color: var(--disabled-bg-color);\n",
              "    fill: var(--disabled-fill-color);\n",
              "    box-shadow: none;\n",
              "  }\n",
              "\n",
              "  .colab-df-spinner {\n",
              "    border: 2px solid var(--fill-color);\n",
              "    border-color: transparent;\n",
              "    border-bottom-color: var(--fill-color);\n",
              "    animation:\n",
              "      spin 1s steps(1) infinite;\n",
              "  }\n",
              "\n",
              "  @keyframes spin {\n",
              "    0% {\n",
              "      border-color: transparent;\n",
              "      border-bottom-color: var(--fill-color);\n",
              "      border-left-color: var(--fill-color);\n",
              "    }\n",
              "    20% {\n",
              "      border-color: transparent;\n",
              "      border-left-color: var(--fill-color);\n",
              "      border-top-color: var(--fill-color);\n",
              "    }\n",
              "    30% {\n",
              "      border-color: transparent;\n",
              "      border-left-color: var(--fill-color);\n",
              "      border-top-color: var(--fill-color);\n",
              "      border-right-color: var(--fill-color);\n",
              "    }\n",
              "    40% {\n",
              "      border-color: transparent;\n",
              "      border-right-color: var(--fill-color);\n",
              "      border-top-color: var(--fill-color);\n",
              "    }\n",
              "    60% {\n",
              "      border-color: transparent;\n",
              "      border-right-color: var(--fill-color);\n",
              "    }\n",
              "    80% {\n",
              "      border-color: transparent;\n",
              "      border-right-color: var(--fill-color);\n",
              "      border-bottom-color: var(--fill-color);\n",
              "    }\n",
              "    90% {\n",
              "      border-color: transparent;\n",
              "      border-bottom-color: var(--fill-color);\n",
              "    }\n",
              "  }\n",
              "</style>\n",
              "\n",
              "  <script>\n",
              "    async function quickchart(key) {\n",
              "      const quickchartButtonEl =\n",
              "        document.querySelector('#' + key + ' button');\n",
              "      quickchartButtonEl.disabled = true;  // To prevent multiple clicks.\n",
              "      quickchartButtonEl.classList.add('colab-df-spinner');\n",
              "      try {\n",
              "        const charts = await google.colab.kernel.invokeFunction(\n",
              "            'suggestCharts', [key], {});\n",
              "      } catch (error) {\n",
              "        console.error('Error during call to suggestCharts:', error);\n",
              "      }\n",
              "      quickchartButtonEl.classList.remove('colab-df-spinner');\n",
              "      quickchartButtonEl.classList.add('colab-df-quickchart-complete');\n",
              "    }\n",
              "    (() => {\n",
              "      let quickchartButtonEl =\n",
              "        document.querySelector('#df-35034aab-ab76-421a-a43f-3a257b0d6caa button');\n",
              "      quickchartButtonEl.style.display =\n",
              "        google.colab.kernel.accessAllowed ? 'block' : 'none';\n",
              "    })();\n",
              "  </script>\n",
              "</div>\n",
              "    </div>\n",
              "  </div>\n"
            ]
          },
          "metadata": {},
          "execution_count": 168
        }
      ]
    },
    {
      "cell_type": "markdown",
      "source": [
        "\n",
        "\n",
        "> Plots\n",
        "\n"
      ],
      "metadata": {
        "id": "KOYMfQVEgsYn"
      }
    },
    {
      "source": [
        "import numpy as np\n",
        "from google.colab import autoviz\n",
        "\n",
        "def heatmap(df, x_colname, y_colname, figscale=1, mpl_palette_name='viridis'):\n",
        "  from matplotlib import pyplot as plt\n",
        "  import seaborn as sns\n",
        "  import pandas as pd\n",
        "  plt.subplots(figsize=(8 * figscale, 8 * figscale))\n",
        "  df_2dhist = pd.DataFrame({\n",
        "      x_label: grp[y_colname].value_counts()\n",
        "      for x_label, grp in df.groupby(x_colname)\n",
        "  })\n",
        "  sns.heatmap(df_2dhist, cmap=mpl_palette_name)\n",
        "  plt.xlabel(x_colname)\n",
        "  plt.ylabel(y_colname)\n",
        "  return autoviz.MplChart.from_current_mpl_state()\n",
        "\n",
        "chart = heatmap(_df_15, *['Sex', 'Embarked'], **{})\n",
        "chart"
      ],
      "cell_type": "code",
      "metadata": {
        "colab": {
          "base_uri": "https://localhost:8080/",
          "height": 701
        },
        "id": "lLk-NdzIYoii",
        "outputId": "281c2665-0f1c-47d9-b674-563b714a50dd"
      },
      "execution_count": null,
      "outputs": [
        {
          "output_type": "execute_result",
          "data": {
            "text/html": [
              "<img src=\"data:image/png;base64,iVBORw0KGgoAAAANSUhEUgAAApEAAAKnCAYAAADeCBZ7AAAAOXRFWHRTb2Z0d2FyZQBNYXRwbG90\n",
              "bGliIHZlcnNpb24zLjcuMSwgaHR0cHM6Ly9tYXRwbG90bGliLm9yZy/bCgiHAAAACXBIWXMAAA9h\n",
              "AAAPYQGoP6dpAAA5vUlEQVR4nO3dfZSVdb03/vegOBHIIBgzzjGI0hTyIXzI8HDyiUT0YCm3pZFR\n",
              "mWii3kpZYWLd1mnS40nzKcqy8tyadx5P5sMSM1PRRBQUn/JGJRSPHqBCQDAGZPbvj37N3SQq33Fw\n",
              "M+zXa61rLfd1Xfu6PnuvxfhZ7+/+fq+6SqVSCQAAFOhR7QIAAOh+NJEAABTTRAIAUEwTCQBAMU0k\n",
              "AADFNJEAABTTRAIAUEwTCQBAMU0kAADFtqx2ARvDsLMuqHYJwEby2Mnfq3YJwEbSo+nJqt27bdF7\n",
              "q3bvan7uN0MSCQBAsc0yiQQAKNGWtqrdu7smet21bgCAmjNjxoyMHTs2zc3Nqaury/XXX9/h+MqV\n",
              "K3PyySdn++23T69evTJs2LBMmzatwzmrV6/OpEmTMmDAgPTp0yfjxo3L4sWLi2vRRAIAdBOrVq3K\n",
              "7rvvnksvvXS9xydPnpzp06fnf//v/50nnngip512Wk4++eTccMMN7eecfvrpufHGG3Pttdfmrrvu\n",
              "ygsvvJAjjzyyuBbD2QBAzVtXqd5wdkkzNmbMmIwZM+Y1j997772ZMGFC9t9//yTJxIkT8/3vfz/3\n",
              "339/Dj/88Cxfvjw/+tGPcvXVV+fAAw9Mkvz4xz/O0KFDc9999+WDH/zgBtciiQQAqKLW1tasWLGi\n",
              "w9ba2tqpa+2777654YYb8vzzz6dSqeSOO+7Ik08+mYMPPjhJMmfOnKxduzajRo1qf8/OO++cQYMG\n",
              "ZebMmUX30kQCADWvLZWqbS0tLWloaOiwtbS0dOpzXHzxxRk2bFi23377bLXVVjnkkENy6aWX5kMf\n",
              "+lCSZNGiRdlqq63Sr1+/Du9rbGzMokWLiu5lOBsAoIqmTJmSyZMnd9hXX1/fqWtdfPHFue+++3LD\n",
              "DTdk8ODBmTFjRiZNmpTm5uYO6WNX0EQCADWvmkv89Kqv73TT+Lf+/Oc/58wzz8wvfvGLHHbYYUmS\n",
              "3XbbLXPnzs3555+fUaNGpampKWvWrMmyZcs6pJGLFy9OU1NT0f0MZwMAbAbWrl2btWvXpkePju3d\n",
              "Fltskba2vzTJe+65Z3r27Jnbb7+9/fi8efOycOHCjBgxouh+kkgAgG5i5cqVefrpp9tfL1iwIHPn\n",
              "zk3//v0zaNCg7LfffjnjjDPSq1evDB48OHfddVeuvPLKfOc730mSNDQ05LjjjsvkyZPTv3//9O3b\n",
              "N6ecckpGjBhRNDM70UQCAGRdpVLtEjbI7Nmzc8ABB7S//utvKSdMmJCf/OQnueaaazJlypSMHz8+\n",
              "S5cuzeDBg/Mv//IvOfHEE9vfc8EFF6RHjx4ZN25cWltbM3r06Fx22WXFtdRVKt3kWysw7KwLql0C\n",
              "sJE8dvL3ql0CsJH0aHqyavde8cKgqt27b/PCqt37zZBEAgA1ry2bXaa20ZlYAwBAMU0kAADFDGcD\n",
              "ADVvneHsYpJIAACKSSIBgJpnYk05SSQAAMUkkQBAzesui41vSiSRAAAU00QCAFDMcDYAUPPaql1A\n",
              "NySJBACgmCQSAKh5FhsvJ4kEAKCYJhIAgGKGswGAmrfOaHYxSSQAAMUkkQBAzbPETzlJJAAAxSSR\n",
              "AEDNW5e6apfQ7UgiAQAopokEAKCY4WwAoOa1WeKnmCQSAIBikkgAoOaZWFNOEgkAQDFNJAAAxQxn\n",
              "AwA1z3B2OUkkAADFJJEAQM1rq0giS0kiAQAoJokEAGqe30SWk0QCAFBMEwkAQDHD2QBAzVsnVyvm\n",
              "GwMAoJgkEgCoeZb4KSeJBACgmCYSAIBihrMBgJpnnchykkgAAIpJIgGAmreuIlcr5RsDAKCYJBIA\n",
              "qHltcrVivjEAAIppIgEAKGY4GwCoeZb4KSeJBACgmCQSAKh5lvgp5xsDAKCYJhIAgGKGswGAmtdm\n",
              "Yk0xSSQAAMUkkQBAzVsnVyvmGwMAoJgmEgCAYoazAYCaZ53Icr4xAACKSSIBgJrXJlcr5hsDAKCY\n",
              "JBIAqHnrKhYbLyWJBACgmCYSAIBihrMBgJrniTXlfGMAABSTRAIANa/NYuPFfGMAAN3EjBkzMnbs\n",
              "2DQ3N6euri7XX3/9q8554okncvjhh6ehoSG9e/fO3nvvnYULF7YfX716dSZNmpQBAwakT58+GTdu\n",
              "XBYvXlxciyYSAKCbWLVqVXbfffdceuml6z0+f/78jBw5MjvvvHPuvPPOPPLII5k6dWre9ra3tZ9z\n",
              "+umn58Ybb8y1116bu+66Ky+88EKOPPLI4loMZwMANa+7TKwZM2ZMxowZ85rHv/rVr+bQQw/Neeed\n",
              "177vPe95T/t/L1++PD/60Y9y9dVX58ADD0yS/PjHP87QoUNz33335YMf/OAG19I9vjEAgM1Ua2tr\n",
              "VqxY0WFrbW0tvk5bW1tuvvnmvPe9783o0aMzcODA7LPPPh2GvOfMmZO1a9dm1KhR7ft23nnnDBo0\n",
              "KDNnziy6nyYSAKh56yp1VdtaWlrS0NDQYWtpaSn+DEuWLMnKlSvz7W9/O4ccckh+9atf5YgjjsiR\n",
              "Rx6Zu+66K0myaNGibLXVVunXr1+H9zY2NmbRokVF9zOcDQBQRVOmTMnkyZM77Kuvry++TltbW5Lk\n",
              "Ix/5SE4//fQkyfvf//7ce++9mTZtWvbbb783X+zf0EQCADWvrYqDs/X19Z1qGv/etttumy233DLD\n",
              "hg3rsH/o0KG55557kiRNTU1Zs2ZNli1b1iGNXLx4cZqamoruZzgbAGAzsNVWW2XvvffOvHnzOux/\n",
              "8sknM3jw4CTJnnvumZ49e+b2229vPz5v3rwsXLgwI0aMKLqfJBIAoJtYuXJlnn766fbXCxYsyNy5\n",
              "c9O/f/8MGjQoZ5xxRj7+8Y/nQx/6UA444IBMnz49N954Y+68884kSUNDQ4477rhMnjw5/fv3T9++\n",
              "fXPKKadkxIgRRTOzE00kAEDWdZMn1syePTsHHHBA++u//pZywoQJ+clPfpIjjjgi06ZNS0tLS049\n",
              "9dTstNNOue666zJy5Mj291xwwQXp0aNHxo0bl9bW1owePTqXXXZZcS11lUql8uY/0qZl2FkXVLsE\n",
              "YCN57OTvVbsEYCPp0fRk1e59xZMj3/ikjeSz772navd+MySRAEDNa0tdtUvodrpHdgsAwCZFEwkA\n",
              "QDHD2QBAzesuE2s2Jb4xAACKSSIBgJq3Tq5WzDcGAEAxSSQAUPPaKpb4KSWJBACgWNWayJkzZ+am\n",
              "m27qsO/KK6/MkCFDMnDgwEycODGtra1Vqg4AgNdTtSbynHPOyeOPP97++tFHH81xxx2XUaNG5Stf\n",
              "+UpuvPHGtLS0vOF1Wltbs2LFig5b2yuvbMzSAYDNzLr0qNrWXVWt8rlz5+aggw5qf33NNddkn332\n",
              "yeWXX57Jkyfnoosuys9//vM3vE5LS0saGho6bH+699cbs3QAgJpXtSbyxRdfTGNjY/vru+66K2PG\n",
              "jGl/vffee+e55557w+tMmTIly5cv77AN2HfURqkZANg8tVV6VG3rrqpWeWNjYxYsWJAkWbNmTR58\n",
              "8MF88IMfbD/+0ksvpWfPnm94nfr6+vTt27fD1mNLk84BADamqjWRhx56aL7yla/k7rvvzpQpU/L2\n",
              "t789//RP/9R+/JFHHsl73vOeapUHAMDrqFpk941vfCNHHnlk9ttvv/Tp0yc//elPs9VWW7Ufv+KK\n",
              "K3LwwQdXqzwAoIasi3UiS1Wtidx2220zY8aMLF++PH369MkWW2zR4fi1116bPn36VKk6AABeT9V/\n",
              "PNjQ0LDe/f3793+LKwEAalV3nuBSLb4xAACKVT2JBACoNr+JLCeJBACgmCYSAIBihrMBgJpnYk05\n",
              "3xgAAMUkkQBAzVsniSzmGwMAoJgmEgCAYoazAYCa12adyGKSSAAAikkiAYCaZ2JNOd8YAADFJJEA\n",
              "QM1rq/hNZClJJAAAxTSRAAAUM5wNANS8dXK1Yr4xAACKSSIBgJpnYk05SSQAAMU0kQAAFDOcDQDU\n",
              "vDa5WjHfGAAAxSSRAEDNW2diTTFJJAAAxSSRAEDNs8RPOUkkAADFNJEAABQznA0A1Ly2ilytlG8M\n",
              "AIBikkgAoOati4k1pSSRAAAU00QCAFDMcDYAUPOsE1lOEgkAQDFJJABQ8yzxU843BgBAMU0kAADF\n",
              "DGcDADWvzTqRxSSRAAAUk0QCADVvnSV+ikkiAQAoJokEAGqeJX7K+cYAACimiQQAoJjhbACg5nl2\n",
              "djlJJAAAxSSRAEDNs9h4OUkkAEA3MWPGjIwdOzbNzc2pq6vL9ddf/5rnnnjiiamrq8uFF17YYf/S\n",
              "pUszfvz49O3bN/369ctxxx2XlStXFteiiQQA6CZWrVqV3XffPZdeeunrnveLX/wi9913X5qbm191\n",
              "bPz48Xn88cdz22235aabbsqMGTMyceLE4loMZwMANa+7TKwZM2ZMxowZ87rnPP/88znllFNy6623\n",
              "5rDDDutw7Iknnsj06dPzwAMPZK+99kqSXHzxxTn00ENz/vnnr7fpfC2SSACAKmptbc2KFSs6bK2t\n",
              "rZ26VltbW4499ticccYZed/73veq4zNnzky/fv3aG8gkGTVqVHr06JFZs2YV3UsTCQDUvLZKj6pt\n",
              "LS0taWho6LC1tLR06nOce+652XLLLXPqqaeu9/iiRYsycODADvu23HLL9O/fP4sWLSq6l+FsAIAq\n",
              "mjJlSiZPntxhX319ffF15syZk+9+97t58MEHU1e38YfnNZEAQM2r5m8i6+vrO9U0/r277747S5Ys\n",
              "yaBBg9r3rVu3Ll/4whdy4YUX5plnnklTU1OWLFnS4X2vvPJKli5dmqampqL7aSIBADYDxx57bEaN\n",
              "GtVh3+jRo3PsscfmM5/5TJJkxIgRWbZsWebMmZM999wzSfKb3/wmbW1t2WeffYrup4kEAOgmVq5c\n",
              "maeffrr99YIFCzJ37tz0798/gwYNyoABAzqc37NnzzQ1NWWnnXZKkgwdOjSHHHJIjj/++EybNi1r\n",
              "167NySefnKOPPrpoZnaiiQQA6DZPrJk9e3YOOOCA9td//S3lhAkT8pOf/GSDrnHVVVfl5JNPzkEH\n",
              "HZQePXpk3Lhxueiii4pr0UQCAHQT+++/fyqVygaf/8wzz7xqX//+/XP11Ve/6Vo0kQBAzesui41v\n",
              "SqwTCQBAMU0kAADFDGcDADXPcHY5SSQAAMUkkQBAzZNElpNEAgBQTBIJANQ8SWQ5SSQAAMU0kQAA\n",
              "FDOcDQDUvO7y7OxNiSQSAIBikkgAoOaZWFNOEgkAQDFNJAAAxQxnAwA1z3B2OUkkAADFJJEAQM2T\n",
              "RJaTRAIAUEwSCQDUPElkOUkkAADFNJEAABQznA0A1LyK4exikkgAAIpJIgGAmtcWSWQpSSQAAMU0\n",
              "kQAAFDOcDQDUPOtElpNEAgBQTBIJANQ8S/yUk0QCAFBMEgkA1Dy/iSwniQQAoJgmEgCAYoazAYCa\n",
              "Z2JNOUkkAADFJJEAQM0zsabcZtlEDr5uSbVLADaSDz0xsdolABvJPddVuwJKGM4GAKDYZplEAgCU\n",
              "qFSqXUH3I4kEAKCYJBIAqHltMbGmlCQSAIBikkgAoOZZbLycJBIAgGKaSAAAihnOBgBqnifWlJNE\n",
              "AgBQTBIJANQ8i42Xk0QCAFBMEwkAQDHD2QBAzbNOZDlJJAAAxSSRAEDNk0SWk0QCAFBMEwkAQDHD\n",
              "2QBAzfPEmnKSSAAAikkiAYCa54k15SSRAAAUk0QCADXPEj/lJJEAABTTRAIAUMxwNgBQ8wxnl5NE\n",
              "AgBQTBIJANQ8K/yUk0QCAHQTM2bMyNixY9Pc3Jy6urpcf/317cfWrl2bL3/5y9l1113Tu3fvNDc3\n",
              "51Of+lReeOGFDtdYunRpxo8fn759+6Zfv3457rjjsnLlyuJaNJEAAN3EqlWrsvvuu+fSSy991bGX\n",
              "X345Dz74YKZOnZoHH3ww//mf/5l58+bl8MMP73De+PHj8/jjj+e2227LTTfdlBkzZmTixInFtRjO\n",
              "BgBqXneZWDNmzJiMGTNmvccaGhpy2223ddh3ySWX5AMf+EAWLlyYQYMG5Yknnsj06dPzwAMPZK+9\n",
              "9kqSXHzxxTn00ENz/vnnp7m5eYNrkUQCAFRRa2trVqxY0WFrbW3tkmsvX748dXV16devX5Jk5syZ\n",
              "6devX3sDmSSjRo1Kjx49MmvWrKJrayIBACrV21paWtLQ0NBha2lpedMfafXq1fnyl7+cY445Jn37\n",
              "9k2SLFq0KAMHDuxw3pZbbpn+/ftn0aJFRdc3nA0AUEVTpkzJ5MmTO+yrr69/U9dcu3ZtPvaxj6VS\n",
              "qeR73/vem7rWa9FEAgA1r5q/iayvr3/TTePf+msD+eyzz+Y3v/lNewqZJE1NTVmyZEmH81955ZUs\n",
              "Xbo0TU1NRfcxnA0AsJn4awP51FNP5de//nUGDBjQ4fiIESOybNmyzJkzp33fb37zm7S1tWWfffYp\n",
              "upckEgCgm1i5cmWefvrp9tcLFizI3Llz079//2y33Xb5H//jf+TBBx/MTTfdlHXr1rX/zrF///7Z\n",
              "aqutMnTo0BxyyCE5/vjjM23atKxduzYnn3xyjj766KKZ2YkmEgAglW7yyJrZs2fngAMOaH/9199S\n",
              "TpgwIV//+tdzww03JEne//73d3jfHXfckf333z9JctVVV+Xkk0/OQQcdlB49emTcuHG56KKLimvR\n",
              "RAIAdBP7779/Kq/T8b7esb/q379/rr766jddiyYSAKh53WWx8U2JiTUAABTTRAIAUMxwNgCA4exi\n",
              "kkgAAIpJIgGAmtddlvjZlEgiAQAoJokEAJBEFpNEAgBQTBMJAEAxw9kAQM3zxJpykkgAAIpJIgEA\n",
              "TKwpJokEAKCYJhIAgGKGswGAmmdiTTlJJAAAxSSRAAAm1hSTRAIAUEwSCQAQv4ksJYkEAKCYJhIA\n",
              "gGKGswEATKwpJokEAKCYJBIAQBJZTBIJAEAxTSQAAMUMZwMAeHZ2MUkkAADFJJEAQM2rmFhTTBIJ\n",
              "AECxDU4iH3nkkQ2+6G677dapYgAAqkISWWyDm8j3v//9qaurS6VSSV3d6//4dN26dW+6MAAANl0b\n",
              "PJy9YMGC/P73v8+CBQty3XXXZciQIbnsssvy0EMP5aGHHspll12W97znPbnuuus2Zr0AAGwCNjiJ\n",
              "HDx4cPt/H3XUUbnoooty6KGHtu/bbbfd8s53vjNTp07NRz/60S4tEgBgo7LET7FOTax59NFHM2TI\n",
              "kFftHzJkSH73u9+96aIAANi0daqJHDp0aFpaWrJmzZr2fWvWrElLS0uGDh3aZcUBALwV6irV27qr\n",
              "Tq0TOW3atIwdOzbbb799+0zsRx55JHV1dbnxxhu7tEAAADY9nWoiP/CBD+T3v/99rrrqqvzf//t/\n",
              "kyQf//jH84lPfCK9e/fu0gIBANj0dPqJNb17987EiRO7shYAgOroxsPK1dLpJ9b8+7//e0aOHJnm\n",
              "5uY8++yzSZILLrggv/zlL7usOAAANk2daiK/973vZfLkyRkzZkxefPHF9sXFt9lmm1x44YVdWR8A\n",
              "wMZXqave1k11qom8+OKLc/nll+erX/1qttzy/42I77XXXnn00Ue7rDgAADZNnfpN5IIFCzJ8+PBX\n",
              "7a+vr8+qVavedFEAAG8pv4ks1qkkcsiQIZk7d+6r9k+fPt06kQAANaBTSeTkyZMzadKkrF69OpVK\n",
              "Jffff39+9rOfpaWlJT/84Q+7ukYAADYxnWoiP/e5z6VXr14566yz8vLLL+cTn/hEmpub893vfjdH\n",
              "H310V9cIALBxGc4u1qkmcsWKFRk/fnzGjx+fl19+OStXrszAgQOTJE8//XR22GGHLi0SAIBNS6d+\n",
              "E3nYYYeltbU1SfL2t7+9vYGcN29e9t9//y4rDgDgLVGp4tZNdaqJ7NOnT4444oi88sor7fueeOKJ\n",
              "7L///hk3blyXFQcAwKapU03kf/7nf2b58uUZP358KpVKHnvssey///455phj8t3vfrerawQAYBPT\n",
              "qSayV69eufnmmzNv3rx87GMfy0EHHZRPfepT+c53vtPV9QEAbHyeWFNsgyfWrFixosPrHj165P/8\n",
              "n/+TD3/4wxk3blymTp3afk7fvn27tkoAADYpG9xE9uvXL3V1r+6WK5VKpk2blu9///upVCqpq6tr\n",
              "f5Y2AEB3UNeNJ7hUywY3kXfcccfGrAMAgG5kg5vI/fbbL0nyyiuv5Fvf+lY++9nPZvvtt99ohQEA\n",
              "sOkqnliz5ZZb5l//9V87LO8DANCtWSeyWKdmZx944IG56667uroWAAC6iU499nDMmDH5yle+kkcf\n",
              "fTR77rlnevfu3eH44Ycf3iXFAQCwaepUE3nSSSclyXrXhTQ7GwBg89ep4ey2trbX3Da0gfzNb36T\n",
              "YcOGvWr9ySRZvnx53ve+9+Xuu+/uTHkAAEXqKtXbuqtONZFd4cILL8zxxx+/3oXJGxoacsIJJ3gC\n",
              "DgDAJqpTw9lJsmrVqtx1111ZuHBh1qxZ0+HYqaee+obvf/jhh3Puuee+5vGDDz44559//htep7W1\n",
              "Na2trR32tbW9kh49Ov3RAAB4A53qtB566KEceuihefnll7Nq1ar0798/f/zjH/P2t789AwcO3KAm\n",
              "cvHixenZs+drF7bllvnDH/7whtdpaWnJ//pf/6vDvvcM+Mfs+I5/euMPAgCQdOtnWFdLp4azTz/9\n",
              "9IwdOzYvvvhievXqlfvuuy/PPvts9txzzw1KD5PkH/7hH/LYY4+95vFHHnkk22233RteZ8qUKVm+\n",
              "fHmH7T0DRmzwZwEAoFynmsi5c+fmC1/4Qnr06JEtttgira2teec735nzzjsvZ5555gZd49BDD83U\n",
              "qVOzevXqVx3785//nK997Wv553/+5ze8Tn19ffr27dthM5QNABSx2HixTjWRPXv2TI8ef3nrwIED\n",
              "s3DhwiR/mRDz3HPPbdA1zjrrrCxdujTvfe97c9555+WXv/xlfvnLX+bcc8/NTjvtlKVLl+arX/1q\n",
              "Z8oDANgszZgxI2PHjk1zc3Pq6upy/fXXdzheqVRy9tlnZ7vttkuvXr0yatSoPPXUUx3OWbp0acaP\n",
              "H5++ffumX79+Oe6447Jy5criWjrVRA4fPjwPPPBAkr88U/vss8/OVVddldNOOy277LLLBl2jsbEx\n",
              "9957b3bZZZdMmTIlRxxxRI444oiceeaZ2WWXXXLPPfeksbGxM+UBAGyWVq1ald133z2XXnrpeo+f\n",
              "d955ueiiizJt2rTMmjUrvXv3zujRozuM/I4fPz6PP/54brvtttx0002ZMWNGJk6cWFxLXaVSKQ5S\n",
              "Z8+enZdeeikHHHBAlixZkk996lO59957s+OOO+aKK67I7rvvXnS9F198MU8//XQqlUp23HHHbLPN\n",
              "NqUldTBm6JQ39X5g0/XSsAHVLgHYSO657otVu/e7L6jesoK/P31yp95XV1eXX/ziF/noRz+a5C8p\n",
              "ZHNzc77whS/ki1/8y3e5fPnyNDY25ic/+UmOPvroPPHEExk2bFgeeOCB7LXXXkmS6dOn59BDD81/\n",
              "/dd/pbm5eYPv36kfD/71pslfhrOnT5/emcu022abbbL33nu/qWsAAHRH61uusL6+PvX19UXXWbBg\n",
              "QRYtWpRRo0a172toaMg+++yTmTNn5uijj87MmTPTr1+/Dr3cqFGj0qNHj8yaNStHHHHEBt/vTS02\n",
              "vmTJktx99925++67N2g5HgCATVE1n1jT0tKShoaGDltLS0vxZ1i0aFGSvOrngI2Nje3HFi1alIED\n",
              "B3Y4vuWWW6Z///7t52yoTiWRL730Uk466aRcc8017Y853GKLLfLxj388l156aRoaGjpzWQCAmjNl\n",
              "ypRMntxxSLs0hayGTiWRn/vc5zJr1qzcdNNNWbZsWZYtW5abbrops2fPzgknnNDVNQIAbFxVXOJn\n",
              "fcsVdqaJbGpqSvKXB7r8rcWLF7cfa2pqypIlSzocf+WVV7J06dL2czZUp5rIm266KVdccUVGjx7d\n",
              "/mFHjx6dyy+/PDfeeGNnLgkAwJswZMiQNDU15fbbb2/ft2LFisyaNSsjRvzlQSwjRozIsmXLMmfO\n",
              "nPZzfvOb36StrS377LNP0f06NZw9YMCA9Q5ZNzQ0vOmZ1QAArN/KlSvz9NNPt79esGBB5s6dm/79\n",
              "+2fQoEE57bTT8s1vfjM77rhjhgwZkqlTp6a5ubl9BvfQoUNzyCGH5Pjjj8+0adOydu3anHzyyTn6\n",
              "6KOLZmYnnUwizzrrrEyePLnDDzAXLVqUM844I1OnTu3MJQEAqqebPLFm9uzZGT58eIYPH54kmTx5\n",
              "coYPH56zzz47SfKlL30pp5xySiZOnJi99947K1euzPTp0/O2t72t/RpXXXVVdt555xx00EE59NBD\n",
              "M3LkyPzgBz8oKyQF60QOHz48dXX/7+HkTz31VFpbWzNo0KAkycKFC1NfX58dd9wxDz74YHEhXck6\n",
              "kbD5sk4kbL6quU7ke86v3jqR87/YuXUiq22Dh7P/GoMCAGxu6rrxM6yrZYObyK997Wsbsw4AALqR\n",
              "Tk2s+VsrV65MW1tbh319+/Z9s5cFAGAT1qkmcsGCBTn55JNz5513dnigd6VSSV1dXfsC5AAA3UKl\n",
              "7o3PoYNONZGf/OQnU6lUcsUVV6SxsbHDhBsAADZ/nWoiH3744cyZMyc77bRTV9cDAPDWM7GmWKfW\n",
              "idx7773z3HPPdXUtAAB0E51KIn/4wx/mxBNPzPPPP59ddtklPXv27HB8t91265LiAADeCpb4Kdep\n",
              "JvIPf/hD5s+fn8985jPt++rq6kysAQCoEZ1qIj/72c9m+PDh+dnPfmZiDQBADepUE/nss8/mhhtu\n",
              "yA477NDV9QAAvPUMZxfr1MSaAw88MA8//HBX1wIAQDfRqSRy7NixOf300/Poo49m1113fdXEmsMP\n",
              "P7xLigMAeCuYWFOuU03kiSeemCQ555xzXnXMxBoAgM1fp5rIv39WNgAAtaXoN5GHHnpoli9f3v76\n",
              "29/+dpYtW9b++k9/+lOGDRvWZcUBALwlKlXcuqmiJvLWW29Na2tr++tvfetbWbp0afvrV155JfPm\n",
              "zeu66gAA2CQVDWdXKpXXfQ0A0C1paYp1aokfAABqW1ESWVdX96qn03haDQDQ3Vnip1zxcPanP/3p\n",
              "1NfXJ0lWr16dE088Mb17906SDr+XBABg81XURE6YMKHD609+8pOvOudTn/rUm6sIAIBNXlET+eMf\n",
              "/3hj1QEAQDdiYg0AAMU69cQaAIDNiok1xSSRAAAU00QCAFDMcDYAUPOsE1lOEgkAQDFJJACAJLKY\n",
              "JBIAgGKSSAAASWQxSSQAAMU0kQAAFDOcDQDUPEv8lJNEAgBQTBIJACCJLCaJBACgmCYSAIBihrMB\n",
              "gJpnYk05SSQAAMUkkQAAkshikkgAAIpJIgEAJJHFJJEAABTTRAIAUMxwNgBQ8yzxU04SCQBAMUkk\n",
              "AIAkspgkEgCAYppIAACKGc4GADCcXUwSCQBAMUkkAFDzLPFTThIJAEAxTSQAAMUMZwMAGM4uJokE\n",
              "AKCYJBIAqHkm1pSTRAIAUEwSCQAgiSwmiQQAoJgmEgCAYoazAQAMZxeTRAIAUEwSCQDUvLpqF9AN\n",
              "SSIBALqJdevWZerUqRkyZEh69eqV97znPfnGN76RSuX/jcdXKpWcffbZ2W677dKrV6+MGjUqTz31\n",
              "VJfXookEAOgmzj333Hzve9/LJZdckieeeCLnnntuzjvvvFx88cXt55x33nm56KKLMm3atMyaNSu9\n",
              "e/fO6NGjs3r16i6txXA2AEA3mVhz77335iMf+UgOO+ywJMm73vWu/OxnP8v999+f5C8p5IUXXpiz\n",
              "zjorH/nIR5IkV155ZRobG3P99dfn6KOP7rJaJJEAAFXU2tqaFStWdNhaW1vXe+6+++6b22+/PU8+\n",
              "+WSS5OGHH84999yTMWPGJEkWLFiQRYsWZdSoUe3vaWhoyD777JOZM2d2ad2aSACg5tVVqre1tLSk\n",
              "oaGhw9bS0rLeOr/yla/k6KOPzs4775yePXtm+PDhOe200zJ+/PgkyaJFi5IkjY2NHd7X2NjYfqyr\n",
              "GM4GAKiiKVOmZPLkyR321dfXr/fcn//857nqqqty9dVX533ve1/mzp2b0047Lc3NzZkwYcJbUW47\n",
              "TSQAQBV/E1lfX/+aTePfO+OMM9rTyCTZdddd8+yzz6alpSUTJkxIU1NTkmTx4sXZbrvt2t+3ePHi\n",
              "vP/97+/Sug1nAwB0Ey+//HJ69OjYvm2xxRZpa2tLkgwZMiRNTU25/fbb24+vWLEis2bNyogRI7q0\n",
              "FkkkAEA3MXbs2PzLv/xLBg0alPe973156KGH8p3vfCef/exnkyR1dXU57bTT8s1vfjM77rhjhgwZ\n",
              "kqlTp6a5uTkf/ehHu7QWTSQAQDdZ4ufiiy/O1KlTc9JJJ2XJkiVpbm7OCSeckLPPPrv9nC996UtZ\n",
              "tWpVJk6cmGXLlmXkyJGZPn163va2t3VpLXWVv13ifDMxZuiUapcAbCQvDRtQ7RKAjeSe675YtXvv\n",
              "fuoFVbv3wxedXrV7vxmSSACg5tVtdpHaxmdiDQAAxTSRAAAUM5wNAGA4u5gkEgCAYpJIAKDmmVhT\n",
              "ThIJAEAxSSQAgCSymCQSAIBimkgAAIoZzgYAap6JNeU2yyZy3fxnq10CsJH0mvd0tUsAIJtpEwkA\n",
              "UEQSWcxvIgEAKKaJBACgmOFsAADD2cUkkQAAFJNEAgA1zxI/5SSRAAAUk0QCAEgii0kiAQAopokE\n",
              "AKCY4WwAoObVVYxnl5JEAgBQTBIJACCILCaJBACgmCYSAIBihrMBgJrniTXlJJEAABSTRAIASCKL\n",
              "SSIBACgmiQQAap7fRJaTRAIAUEwTCQBAMcPZAACGs4tJIgEAKCaJBABqnok15SSRAAAU00QCAFDM\n",
              "cDYAgOHsYpJIAACKSSIBgJpnYk05SSQAAMUkkQAAFVFkKUkkAADFNJEAABQznA0A1DwTa8pJIgEA\n",
              "KCaJBACQRBaTRAIAUEwTCQBAMcPZAEDNq2urdgXdjyQSAIBikkgAABNrikkiAQAopokEAKCY4WwA\n",
              "oOZ5Yk05SSQAAMUkkQAAFVFkKUkkAADFJJEAQM3zm8hykkgAAIppIgEAKGY4GwDAcHYxSSQAAMUk\n",
              "kQBAzTOxppwkEgCgG3n++efzyU9+MgMGDEivXr2y6667Zvbs2e3HK5VKzj777Gy33Xbp1atXRo0a\n",
              "laeeeqrL69BEAgB0Ey+++GL+8R//MT179swtt9yS3/3ud/m3f/u3bLPNNu3nnHfeebnooosybdq0\n",
              "zJo1K717987o0aOzevXqLq3FcDYAQDd5Ys25556bd77znfnxj3/cvm/IkCHt/12pVHLhhRfmrLPO\n",
              "ykc+8pEkyZVXXpnGxsZcf/31Ofroo7usFkkkAEAVtba2ZsWKFR221tbW9Z57ww03ZK+99spRRx2V\n",
              "gQMHZvjw4bn88svbjy9YsCCLFi3KqFGj2vc1NDRkn332ycyZM7u0bk0kAFDz6irV21paWtLQ0NBh\n",
              "a2lpWW+dv//97/O9730vO+64Y2699dZ8/vOfz6mnnpqf/vSnSZJFixYlSRobGzu8r7Gxsf1YVzGc\n",
              "DQBQRVOmTMnkyZM77Kuvr1/vuW1tbdlrr73yrW99K0kyfPjwPPbYY5k2bVomTJiw0Wv9W5JIAIBK\n",
              "9bb6+vr07du3w/ZaTeR2222XYcOGddg3dOjQLFy4MEnS1NSUJFm8eHGHcxYvXtx+rKtoIgEAuol/\n",
              "/Md/zLx58zrse/LJJzN48OAkf5lk09TUlNtvv739+IoVKzJr1qyMGDGiS2sxnA0A0E2cfvrp2Xff\n",
              "ffOtb30rH/vYx3L//ffnBz/4QX7wgx8kSerq6nLaaaflm9/8ZnbccccMGTIkU6dOTXNzcz760Y92\n",
              "aS2aSACg5nWXJ9bsvffe+cUvfpEpU6bknHPOyZAhQ3LhhRdm/Pjx7ed86UtfyqpVqzJx4sQsW7Ys\n",
              "I0eOzPTp0/O2t72tS2upq1S6ycJIBQ7e6hPVLgHYSCqvrK12CcBGclvbtVW7935j/7Vq977rxjOq\n",
              "du83QxIJANC22WVqG52JNQAAFNNEAgBQzHA2AIDR7GKSSAAAikkiAYCa112W+NmUSCIBACgmiQQA\n",
              "2PyWzd7oJJEAABTTRAIAUMxwNgBQ80ysKSeJBACgmCQSAEASWUwSCQBAMU0kAADFDGcDADWvzjqR\n",
              "xSSRAAAUk0QCALRVu4DuRxIJAEAxSSQAUPP8JrKcJBIAgGKaSAAAihnOBgAwml1MEgkAQDFJJACA\n",
              "iTXFJJEAABTTRAIAUMxwNgBQ8+qMZheTRAIAUEwSCQBgYk0xSSQAAMUkkQBAzatrq3YF3Y8kEgCA\n",
              "YptUE/nHP/4xK1asqHYZAAC8gao3kcuWLcukSZOy7bbbprGxMdtss02ampoyZcqUvPzyy9UuDwCo\n",
              "BZVK9bZuqqq/iVy6dGlGjBiR559/PuPHj8/QoUOTJL/73e9y8cUX57bbbss999yTRx55JPfdd19O\n",
              "PfXUapYLAMD/r6pN5DnnnJOtttoq8+fPT2Nj46uOHXzwwTn22GPzq1/9KhdddNF6r9Ha2prW1tYO\n",
              "+9oq69KjbouNVjcAsJnpvoFg1VR1OPv666/P+eef/6oGMkmamppy3nnn5brrrsvkyZMzYcKE9V6j\n",
              "paUlDQ0NHbYFbb/b2KUDANS0ukqleoPx9fX1mT9/frbffvv1Hv+v//qvvOtd78orr7zymtdYXxJ5\n",
              "5IDjJZGwmaq8srbaJQAbyW1t11bt3h/e95tVu/dt955VtXu/GVUdzt52223zzDPPvGYTuWDBggwc\n",
              "OPB1r1FfX5/6+voO+zSQAECJum48waVaqjqcPXr06Hz1q1/NmjVrXnWstbU1U6dOzSGHHFKFygAA\n",
              "eD1Vn1iz1157Zccdd8ykSZOy8847p1Kp5Iknnshll12W1tbWXHnlldUsEQCoBZLIYlVtIrfffvvM\n",
              "nDkzJ510UqZMmZK//jyzrq4uH/7wh3PJJZdk0KBB1SwRAID1qPqzs4cMGZJbbrklL774Yp566qkk\n",
              "yQ477JD+/ftXuTIAoGZ4dnaxqjeRf7XNNtvkAx/4QLXLAABgA1T9sYcAAHQ/m0wSCQBQLZb4KSeJ\n",
              "BACgmCQSAEASWUwSCQBAMU0kAADFDGcDABjOLiaJBACgmCQSAMATa4pJIgEAKKaJBACgmOFsAKDm\n",
              "eWJNOUkkAADFJJEAAJLIYpJIAACKSSIBACSRxSSRAAAU00QCAFDMcDYAgOHsYpJIAACKSSIBADw7\n",
              "u5gkEgCgG/r2t7+durq6nHbaae37Vq9enUmTJmXAgAHp06dPxo0bl8WLF2+U+2siAQC6mQceeCDf\n",
              "//73s9tuu3XYf/rpp+fGG2/Mtddem7vuuisvvPBCjjzyyI1SgyYSAKh5dZVK1bZSK1euzPjx43P5\n",
              "5Zdnm222ad+/fPny/OhHP8p3vvOdHHjggdlzzz3z4x//OPfee2/uu+++rvy6kmgiAQCqqrW1NStW\n",
              "rOiwtba2vub5kyZNymGHHZZRo0Z12D9nzpysXbu2w/6dd945gwYNysyZM7u8bk0kAEClUrWtpaUl\n",
              "DQ0NHbaWlpb1lnnNNdfkwQcfXO/xRYsWZauttkq/fv067G9sbMyiRYu6/CszOxsAoIqmTJmSyZMn\n",
              "d9hXX1//qvOee+65/M//+T9z22235W1ve9tbVd5r0kQCALRVb7Hx+vr69TaNf2/OnDlZsmRJ9thj\n",
              "j/Z969aty4wZM3LJJZfk1ltvzZo1a7Js2bIOaeTixYvT1NTU5XVrIgEAuoGDDjoojz76aId9n/nM\n",
              "Z7Lzzjvny1/+ct75znemZ8+euf322zNu3Lgkybx587Jw4cKMGDGiy+vRRAIAdANbb711dtlllw77\n",
              "evfunQEDBrTvP+644zJ58uT0798/ffv2zSmnnJIRI0bkgx/8YJfXo4kEANhMnp19wQUXpEePHhk3\n",
              "blxaW1szevToXHbZZRvlXnWVymbyrf2Ng7f6RLVLADaSyitrq10CsJHc1nZt1e495r1frtq9b3ny\n",
              "3Krd+82QRAIAbH6Z2kZnnUgAAIppIgEAKGY4GwDAcHYxSSQAAMUkkQAAVXxiTXcliQQAoJgkEgCg\n",
              "0lbtCrodSSQAAMU0kQAAFDOcDQBgiZ9ikkgAAIpJIgEALPFTTBIJAEAxTSQAAMUMZwMAmFhTTBIJ\n",
              "AEAxSSQAgCSymCQSAIBikkgAAElkMUkkAADFNJEAABQznA0A0NZW7Qq6HUkkAADFJJEAACbWFJNE\n",
              "AgBQTBMJAEAxw9kAAIazi0kiAQAoJokEAGiTRJaSRAIAUEwSCQDUvErFYuOlJJEAABTTRAIAUMxw\n",
              "NgCAiTXFJJEAABSTRAIAWGy8mCQSAIBimkgAAIoZzgYAaLNOZClJJAAAxSSRAAAm1hSTRAIAUEwS\n",
              "CQDUvIrfRBaTRAIAUEwTCQBAMcPZAAAm1hSTRAIAUEwSCQDQJoksJYkEAKCYJhIAgGKGswEAKtaJ\n",
              "LCWJBACgmCQSAKh5FRNrikkiAQAopokEAKCY4WwAABNrikkiAQAoJokEAGqeiTXlJJEAABSTRAIA\n",
              "+E1kMUkkAADFNJEAABSrq1QqfklKt9Xa2pqWlpZMmTIl9fX11S4H6EL+fcOmTRNJt7ZixYo0NDRk\n",
              "+fLl6du3b7XLAbqQf9+waTOcDQBAMU0kAADFNJEAABTTRNKt1dfX52tf+5of3cNmyL9v2LSZWAMA\n",
              "QDFJJAAAxTSRAAAU00QCAFBME8lbplKpZOLEienfv3/q6uoyd+7cqtTxzDPPVPX+wJvz6U9/Oh/9\n",
              "6EerXQbUvC2rXQC1Y/r06fnJT36SO++8M+9+97uz7bbbVrskAKCTNJG8ZebPn5/tttsu++67b7VL\n",
              "AQDeJMPZvCU+/elP55RTTsnChQtTV1eXd73rXWlra0tLS0uGDBmSXr16Zffdd89//Md/tL/nzjvv\n",
              "TF1dXW699dYMHz48vXr1yoEHHpglS5bklltuydChQ9O3b9984hOfyMsvv9z+vunTp2fkyJHp169f\n",
              "BgwYkH/+53/O/PnzX7e+xx57LGPGjEmfPn3S2NiYY489Nn/84x832vcBtWL//ffPKaecktNOOy3b\n",
              "bLNNGhsbc/nll2fVqlX5zGc+k6233jo77LBDbrnlliTJunXrctxxx7X/Xdhpp53y3e9+93Xv8UZ/\n",
              "S4CNQxPJW+K73/1uzjnnnGy//fb57//+7zzwwANpaWnJlVdemWnTpuXxxx/P6aefnk9+8pO56667\n",
              "Orz361//ei655JLce++9ee655/Kxj30sF154Ya6++urcfPPN+dWvfpWLL764/fxVq1Zl8uTJmT17\n",
              "dm6//fb06NEjRxxxRNra2tZb27Jly3LggQdm+PDhmT17dqZPn57FixfnYx/72Eb9TqBW/PSnP822\n",
              "226b+++/P6eccko+//nP56ijjsq+++6bBx98MAcffHCOPfbYvPzyy2lra8v222+fa6+9Nr/73e9y\n",
              "9tln58wzz8zPf/7z17z+hv4tAbpYBd4iF1xwQWXw4MGVSqVSWb16deXtb3975d577+1wznHHHVc5\n",
              "5phjKpVKpXLHHXdUklR+/etftx9vaWmpJKnMnz+/fd8JJ5xQGT169Gve9w9/+EMlSeXRRx+tVCqV\n",
              "yoIFCypJKg899FClUqlUvvGNb1QOPvjgDu957rnnKkkq8+bN6/TnBSqV/fbbrzJy5Mj216+88kql\n",
              "d+/elWOPPbZ933//939XklRmzpy53mtMmjSpMm7cuPbXEyZMqHzkIx+pVCob9rcE2Dj8JpKqePrp\n",
              "p/Pyyy/nwx/+cIf9a9asyfDhwzvs22233dr/u7GxMW9/+9vz7ne/u8O++++/v/31U089lbPPPjuz\n",
              "Zs3KH//4x/YEcuHChdlll11eVcvDDz+cO+64I3369HnVsfnz5+e9731v5z4kkKTjv+EtttgiAwYM\n",
              "yK677tq+r7GxMUmyZMmSJMmll16aK664IgsXLsyf//znrFmzJu9///vXe+2SvyVA19JEUhUrV65M\n",
              "ktx88835h3/4hw7H/v45uT179mz/77q6ug6v/7rvb4eqx44dm8GDB+fyyy9Pc3Nz2trasssuu2TN\n",
              "mjWvWcvYsWNz7rnnvurYdtttV/bBgFdZ37/Zv/93nfzlt43XXHNNvvjFL+bf/u3fMmLEiGy99db5\n",
              "13/918yaNWu91y75WwJ0LU0kVTFs2LDU19dn4cKF2W+//brsun/6058yb968XH755fmnf/qnJMk9\n",
              "99zzuu/ZY489ct111+Vd73pXttzSPwmopt/+9rfZd999c9JJJ7Xve72JcRvrbwnwxvwfk6rYeuut\n",
              "88UvfjGnn3562traMnLkyCxfvjy//e1v07dv30yYMKFT191mm20yYMCA/OAHP8h2222XhQsX5itf\n",
              "+crrvmfSpEm5/PLLc8wxx+RLX/pS+vfvn6effjrXXHNNfvjDH2aLLbboVC1AuR133DFXXnllbr31\n",
              "1gwZMiT//u//ngceeCBDhgxZ7/kb628J8MY0kVTNN77xjbzjHe9IS0tLfv/736dfv37ZY489cuaZ\n",
              "Z3b6mj169Mg111yTU089Nbvsskt22mmnXHTRRdl///1f8z3Nzc357W9/my9/+cs5+OCD09ramsGD\n",
              "B+eQQw5Jjx4WMIC30gknnJCHHnooH//4x1NXV5djjjkmJ510UvsSQOuzMf6WAG+srlKpVKpdBAAA\n",
              "3YuYBQCAYppIAACKaSIBACimiQQAoJgmEgCAYppIAACKaSIBACimiQQAoJgmEtgk/OEPf8jnP//5\n",
              "DBo0KPX19Wlqasro0aPz29/+ttqlAbAeHnsIbBLGjRuXNWvW5Kc//Wne/e53Z/Hixbn99tvzpz/9\n",
              "qdqlAbAekkig6pYtW5a777475557bg444IAMHjw4H/jABzJlypQcfvjh7ed87nOfyzve8Y707ds3\n",
              "Bx54YB5++OEkf0kxm5qa8q1vfav9mvfee2+22mqr3H777VX5TACbO00kUHV9+vRJnz59cv3116e1\n",
              "tXW95xx11FFZsmRJbrnllsyZMyd77LFHDjrooCxdujTveMc7csUVV+TrX/96Zs+enZdeeinHHnts\n",
              "Tj755Bx00EFv8acBqA11lUqlUu0iAK677rocf/zx+fOf/5w99tgj++23X44++ujstttuueeee3LY\n",
              "YYdlyZIlqa+vb3/PDjvskC996UuZOHFikmTSpEn59a9/nb322iuPPvpoHnjggQ7nA9B1NJHAJmP1\n",
              "6tW5++67c9999+WWW27J/fffnx/+8IdZtWpVTj311PTq1avD+X/+85/zxS9+Meeee27761122SXP\n",
              "Pfdc5syZk1133bUaHwOgJmgigU3W5z73udx222056aSTcvHFF+fOO+981Tn9+vXLtttumyR57LHH\n",
              "svfee2ft2rX5xS9+kbFjx77FFQPUDrOzgU3WsGHDcv3112ePPfbIokWLsuWWW+Zd73rXes9ds2ZN\n",
              "PvnJT+bjH/94dtppp3zuc5/Lo48+moEDB761RQPUCEkkUHV/+tOfctRRR+Wzn/1sdtttt2y99daZ\n",
              "PXt2TjnllBx22GH54Q9/mA996EN56aWXct555+W9731vXnjhhdx888054ogjstdee+WMM87If/zH\n",
              "f+Thhx9Onz59st9++6WhoSE33XRTtT8ewGZJEwlUXWtra77+9a/nV7/6VebPn5+1a9fmne98Z446\n",
              "6qiceeaZ6dWrV1566aV89atfzXXXXde+pM+HPvShtLS0ZP78+fnwhz+cO+64IyNHjkySPPPMM9l9\n",
              "993z7W9/O5///Oer/AkBNj+aSAAAilknEgCAYppIAACKaSIBACimiQQAoJgmEgCAYppIAACKaSIB\n",
              "ACimiQQAoJgmEgCAYppIAACKaSIBACimiQQAoNj/B+zJSeERIZE1AAAAAElFTkSuQmCC\n",
              "\">\n",
              "        <script></script>"
            ],
            "text/plain": [
              "<google.colab._quickchart_lib.MplChart at 0x7bf7ab652d10>"
            ]
          },
          "metadata": {},
          "execution_count": 115
        }
      ]
    },
    {
      "source": [
        "import numpy as np\n",
        "from google.colab import autoviz\n",
        "\n",
        "def categorical_histogram(df, colname, figscale=1, mpl_palette_name='Dark2'):\n",
        "  from matplotlib import pyplot as plt\n",
        "  import seaborn as sns\n",
        "  df.groupby(colname).size().plot(kind='barh', color=sns.palettes.mpl_palette(mpl_palette_name), figsize=(8*figscale, 4.8*figscale))\n",
        "  plt.gca().spines[['top', 'right',]].set_visible(False)\n",
        "  return autoviz.MplChart.from_current_mpl_state()\n",
        "\n",
        "chart = categorical_histogram(_df_4, *['Sex'], **{})\n",
        "chart"
      ],
      "cell_type": "code",
      "metadata": {
        "colab": {
          "base_uri": "https://localhost:8080/",
          "height": 435
        },
        "id": "BQnEEPvYYk8Q",
        "outputId": "281e4670-100c-464d-deda-a2bcceb24bd6"
      },
      "execution_count": null,
      "outputs": [
        {
          "output_type": "execute_result",
          "data": {
            "text/html": [
              "<img src=\"data:image/png;base64,iVBORw0KGgoAAAANSUhEUgAAAs0AAAGdCAYAAADpKU7rAAAAOXRFWHRTb2Z0d2FyZQBNYXRwbG90\n",
              "bGliIHZlcnNpb24zLjcuMSwgaHR0cHM6Ly9tYXRwbG90bGliLm9yZy/bCgiHAAAACXBIWXMAAA9h\n",
              "AAAPYQGoP6dpAAAcbUlEQVR4nO3de5DVdf348ddy27Bld8WFZfGC4DVDCExpTcNJRKis1MrIGnFM\n",
              "U9ES0lGYyWu5VlNTmmXZGNC3Mi21SVPzAhi2ogiEQqFs2FqxMkLsgquA7Pv3R+P5tbLwFkTOLjwe\n",
              "Mzuz53M5+zq8Pccnnzl7KEkppQAAALaqW7EHAACAzk40AwBAhmgGAIAM0QwAABmiGQAAMkQzAABk\n",
              "iGYAAMgQzQAAkCGa3yEppWhpaQn/dgwAQNcnmt8h69ati4qKili3bl2xRwEA4G0SzQAAkCGaAQAg\n",
              "QzQDAECGaAYAgAzRDAAAGaIZAAAyRDMAAGSIZgAAyBDNAACQIZoBACBDNAMAQIZoBgCADNEMAAAZ\n",
              "ohkAADJEMwAAZIhmAADIEM0AAJAhmgEAIEM0AwBAhmgGAIAM0QwAABmiGQAAMkQzAABkiGYAAMgQ\n",
              "zQAAkCGaAQAgQzQDAECGaAYAgAzRDAAAGaIZAAAyRDMAAGSIZgAAyBDNAACQIZoBACBDNAMAQIZo\n",
              "BgCADNEMAAAZohkAADJEMwAAZIhmAADIEM0AAJAhmgEAIEM0AwBAhmgGAIAM0QwAABk9ij3A7m75\n",
              "+ZVR1quk2GMAAHR6h07fXOwRtsqVZgAAyBDNAACQIZoBACBDNAMAQIZoBgCADNEMAAAZohkAADJE\n",
              "MwAAZIhmAADIEM0AAJAhmgEAIEM0AwBAhmgGAIAM0QwAABmiGQAAMkQzAABkiGYAAMgQzQAAkCGa\n",
              "AQAgQzQDAECGaAYAgAzRDAAAGaIZAAAyRDMAAGSIZgAAyBDNAACQIZoBACBDNAMAQIZoBgCADNEM\n",
              "AAAZohkAADJEMwAAZIhmAADIEM0AAJAhmgEAIEM0AwBAhmgGAIAM0QwAABmiGQAAMkQzAABkiOaI\n",
              "mDhxYnzyk58s9hgAAHRSohkAADJEMwAAZHS5aD7hhBPi4osvjksuuST23nvvqK6ujltvvTVeeeWV\n",
              "OPvss6NPnz5x8MEHx/333x8REZs3b45zzjknBg8eHL17947DDjssvv/972/zZ7S1tUVdXV3hnOHD\n",
              "h8dvfvObXfHwAADohLpcNEdEzJgxI6qqquLJJ5+Miy++OC644IL49Kc/Hccee2wsWLAgxo4dG1/4\n",
              "wheitbU12traYr/99os777wzli5dGldeeWVMmzYt7rjjjq3ef11dXcycOTNuueWWWLJkSUyePDk+\n",
              "//nPx5w5c7Z6zoYNG6KlpaXdFwAAu4eSlFIq9hDb44QTTojNmzfHn/70p4j475XkioqKOO2002Lm\n",
              "zJkREdHU1BQ1NTVRX18fH/jAB7a4j4suuiiampoKV48nTpwYa9eujXvuuSc2bNgQffv2jYcffjhq\n",
              "a2sL53zxi1+M1tbW+OUvf9nhXFdffXVcc801W2x/ekJJlPUqeduPGwBgd3fo9M3FHmGrehR7gB0x\n",
              "bNiwwvfdu3ePffbZJ4488sjCturq6oiIWLVqVURE3HzzzXHbbbdFY2NjvPrqq7Fx48Z43/ve1+F9\n",
              "L1++PFpbW+Okk05qt33jxo0xYsSIrc40derUmDJlSuF2S0tL7L///tv92AAA6Hy6ZDT37Nmz3e2S\n",
              "kpJ220pK/ntlt62tLW6//fa49NJL4zvf+U7U1tZGnz594tvf/nbMmzevw/tev359RETcd999se++\n",
              "+7bbV1pautWZSktLt7kfAICuq0tG8/Z4/PHH49hjj40LL7ywsK2hoWGrxx9xxBFRWloajY2NMXr0\n",
              "6F0xIgAAndxuH82HHHJIzJw5Mx588MEYPHhw/PznP4+nnnoqBg8e3OHxffr0iUsvvTQmT54cbW1t\n",
              "cdxxx0Vzc3M8/vjjUV5eHmedddYufgQAABTbbh/NX/rSl2LhwoVxxhlnRElJSUyYMCEuvPDCwkfS\n",
              "deS6666Lfv36RV1dXfz973+PysrKGDlyZEybNm0XTg4AQGfR5T49o6toaWmJiooKn54BAPAWdeZP\n",
              "z+iSn9MMAAC7kmgGAIAM0QwAABmiGQAAMkQzAABkiGYAAMgQzQAAkCGaAQAgQzQDAECGaAYAgAzR\n",
              "DAAAGaIZAAAyRDMAAGSIZgAAyBDNAACQIZoBACBDNAMAQIZoBgCADNEMAAAZohkAADJEMwAAZIhm\n",
              "AADIEM0AAJAhmgEAIEM0AwBAhmgGAIAM0QwAABmiGQAAMkQzAABkiGYAAMgQzQAAkCGaAQAgQzQD\n",
              "AECGaAYAgAzRDAAAGaIZAAAyRDMAAGSIZgAAyBDNAACQUZJSSsUeYnfU0tISFRUV0dzcHOXl5cUe\n",
              "BwCAt8GVZgAAyBDNAACQIZoBACBDNAMAQIZoBgCADNEMAAAZohkAADJEMwAAZIhmAADIEM0AAJAh\n",
              "mgEAIEM0AwBAhmgGAIAM0QwAABmiGQAAMkQzAABkiGYAAMgQzQAAkCGaAQAgQzQDAECGaAYAgAzR\n",
              "DAAAGaIZAAAyRDMAAGSIZgAAyBDNAACQIZoBACBDNAMAQIZoBgCADNEMAAAZohkAADJEMwAAZIhm\n",
              "AADIEM0AAJAhmgEAIGOHonnWrFlb3ffjH/94h4cBAIDOaIeiedy4cXHZZZfFpk2bCttefvnlOOWU\n",
              "U+KKK67YacMBAEBnsMNXmu++++44+uijY+nSpXHffffF0KFDo6WlJRYtWrSTRwQAgOLaoWg+9thj\n",
              "Y9GiRTF06NAYOXJknHrqqTF58uSYPXt2DBo0aGfPCAAARbXDvwj43HPPxfz582O//faLHj16xLJl\n",
              "y6K1tXVnzgYAAJ3CDkXzDTfcELW1tXHSSSfFs88+G08++WQsXLgwhg0bFvX19Tt7RgAAKKqSlFLa\n",
              "3pNqamritttui/Hjxxe2bdq0KaZNmxY33nhjbNiwYacO2RW1tLRERUVFNDc3R3l5ebHHAQDgbdih\n",
              "aH755Zejqqqqw31z5syJ0aNHv+3BujrRDACw+9iht2dUVVXF2rVr46c//WlMnTo11qxZExERCxYs\n",
              "iIMPPninDggAAMXWY0dOWrx4cYwZMyYqKirihRdeiHPPPTf69u0bd911VzQ2NsbMmTN39pwAAFA0\n",
              "O3SlefLkyTFx4sR4/vnn413veldh+0c+8pF47LHHdtpwAADQGezQleb58+fHT37yky2277vvvtHU\n",
              "1PS2hwIAgM5kh640l5aWRktLyxbbn3vuuejXr9/bHgoAADqTHYrmj3/843HttdfGpk2bIiKipKQk\n",
              "Ghsb4/LLL4/TTz99pw4IAADFtkPR/J3vfCfWr18f/fv3j1dffTVGjx4dBx10UJSVlcU3vvGNnT0j\n",
              "AAAU1Q59TvMb5s6dG4sXL47169fHUUcdFSeeeOLOnK1L8znNAAC7j+260lxfXx/33ntv4fZxxx0X\n",
              "7373u+OHP/xhTJgwIc477zz/GiAAALud7Yrma6+9NpYsWVK4/cwzz8S5554bJ510UlxxxRXx+9//\n",
              "Purq6nb6kAAAUEzbFc2LFi1q9xaM22+/PY455pi49dZbY8qUKXHjjTfGHXfcsdOHBACAYtquaP7P\n",
              "f/4T1dXVhdtz5syJ8ePHF24fffTR8eKLL+686QAAoBPYrmiurq6OFStWRETExo0bY8GCBfGBD3yg\n",
              "sH/dunXRs2fPnTshAAAU2XZF80c+8pG44oor4k9/+lNMnTo19tprrzj++OML+xcvXhwHHXTQTh8S\n",
              "AACKabv+Ge3rrrsuTjvttBg9enSUlZXFjBkzolevXoX9t912W4wdO3anDwkAAMW0Q5/T3NzcHGVl\n",
              "ZdG9e/d229esWRNlZWXtQnpP5XOaAQB2H9t1pfkNFRUVHW7v27fv2xoGAAA6ox36Z7QBAGBPIpoB\n",
              "ACBDNAMAQIZoBgCADNEMAAAZohkAADJEMwAAZIhmAADIEM0AAJAhmgEAIEM0AwBAhmgGAIAM0QwA\n",
              "ABmiGQAAMkQzAABkiGYAAMgQzQAAkCGaAQAgQzQDAECGaAYAgAzRDAAAGaIZAAAyRDMAAGSIZgAA\n",
              "yBDNAACQIZoBACBDNAMAQIZoBgCADNEMAAAZohkAADJEMwAAZIhmAADI6FHsAXZ3h//fVdGtd2mx\n",
              "xwDokv559g3FHgEgIlxpBgCALNEMAAAZohkAADJEMwAAZIhmAADIEM0AAJAhmgEAIEM0AwBAhmgG\n",
              "AIAM0QwAABmiGQAAMkQzAABkiGYAAMgQzQAAkCGaAQAgQzQDAECGaAYAgAzRDAAAGaIZAAAyRDMA\n",
              "AGSIZgAAyBDNAACQIZoBACBDNAMAQIZoBgCADNEMAAAZohkAADJEMwAAZIhmAADIEM0AAJAhmgEA\n",
              "IEM0AwBAhmgGAIAM0QwAABmiGQAAMkQzAABkiGYAAMgQzQAAkCGaAQAgQzQDAEBGUaM5pRTnnXde\n",
              "9O3bN0pKSmLRokVFmeOFF14o6s8HAKBz61HMH/7AAw/E9OnTY/bs2TFkyJCoqqoq5jgAANChokZz\n",
              "Q0ND1NTUxLHHHlvMMQAAYJuK9vaMiRMnxsUXXxyNjY1RUlISBx54YLS1tUVdXV0MHjw4evfuHcOH\n",
              "D4/f/OY3hXNmz54dJSUl8eCDD8aIESOid+/e8eEPfzhWrVoV999/f7znPe+J8vLy+NznPhetra2F\n",
              "8x544IE47rjjorKyMvbZZ5/42Mc+Fg0NDduc79lnn43x48dHWVlZVFdXxxe+8IV4+eWX37E/DwAA\n",
              "Oq+iRfP3v//9uPbaa2O//faLlStXxlNPPRV1dXUxc+bMuOWWW2LJkiUxefLk+PznPx9z5sxpd+7V\n",
              "V18dP/jBD+LPf/5zvPjii/GZz3wmvve978Uvf/nLuO++++KPf/xj3HTTTYXjX3nllZgyZUrMnz8/\n",
              "HnnkkejWrVuceuqp0dbW1uFsa9eujQ9/+MMxYsSImD9/fjzwwAPx0ksvxWc+85mtPp4NGzZES0tL\n",
              "uy8AAHYPRXt7RkVFRfTp0ye6d+8eAwYMiA0bNsT1118fDz/8cNTW1kZExJAhQ2Lu3Lnx4x//OEaP\n",
              "Hl049+tf/3p88IMfjIiIc845J6ZOnRoNDQ0xZMiQiIj41Kc+FbNmzYrLL788IiJOP/30dj/7tttu\n",
              "i379+sXSpUtj6NChW8z2gx/8IEaMGBHXX399u3P233//eO655+LQQw/d4py6urq45ppr3uafCgAA\n",
              "nVGn+ci55cuXR2tra5x00klRVlZW+Jo5c+YWb6UYNmxY4fvq6urYa6+9CsH8xrZVq1YVbj///PMx\n",
              "YcKEGDJkSJSXl8eBBx4YERGNjY0dzvKXv/wlZs2a1W6Oww8/PCJiq2/rmDp1ajQ3Nxe+XnzxxR36\n",
              "cwAAoPMp6i8C/q/169dHRMR9990X++67b7t9paWl7W737Nmz8H1JSUm7229s+9+3XpxyyikxaNCg\n",
              "uPXWW2PgwIHR1tYWQ4cOjY0bN251llNOOSW++c1vbrGvpqamw3NKS0u3mBMAgN1Dp4nmI444IkpL\n",
              "S6OxsbHdWzHertWrV8eyZcvi1ltvjeOPPz4iIubOnbvNc0aOHBm//e1v48ADD4wePTrNHxEAAEXS\n",
              "ad6e0adPn7j00ktj8uTJMWPGjGhoaIgFCxbETTfdFDNmzNjh+917771jn332iZ/85CexfPnyePTR\n",
              "R2PKlCnbPGfSpEmxZs2amDBhQjz11FPR0NAQDz74YJx99tmxefPmHZ4FAICuqVNdRr3uuuuiX79+\n",
              "UVdXF3//+9+jsrIyRo4cGdOmTdvh++zWrVvcfvvt8eUvfzmGDh0ahx12WNx4441xwgknbPWcgQMH\n",
              "xuOPPx6XX355jB07NjZs2BCDBg2KcePGRbdunebvGQAA7CIlKaVU7CF2Ry0tLVFRURE1N18S3Xp7\n",
              "rzPAjvjn2TcUewSAiOhEb88AAIDOSjQDAECGaAYAgAzRDAAAGaIZAAAyRDMAAGSIZgAAyBDNAACQ\n",
              "IZoBACBDNAMAQIZoBgCADNEMAAAZohkAADJEMwAAZIhmAADIEM0AAJAhmgEAIEM0AwBAhmgGAIAM\n",
              "0QwAABmiGQAAMkQzAABkiGYAAMgQzQAAkCGaAQAgQzQDAECGaAYAgAzRDAAAGaIZAAAyRDMAAGSI\n",
              "ZgAAyBDNAACQIZoBACBDNAMAQIZoBgCADNEMAAAZohkAADJEMwAAZIhmAADIKEkppWIPsTtqaWmJ\n",
              "ioqKaG5ujvLy8mKPAwDA2+BKMwAAZIhmAADIEM0AAJAhmgEAIEM0AwBAhmgGAIAM0QwAABmiGQAA\n",
              "MkQzAABkiGYAAMgQzQAAkCGaAQAgQzQDAECGaAYAgAzRDAAAGaIZAAAyRDMAAGSIZgAAyBDNAACQ\n",
              "IZoBACBDNAMAQIZoBgCADNEMAAAZohkAADJEMwAAZIhmAADIEM0AAJAhmgEAIEM0AwBAhmgGAIAM\n",
              "0QwAABmiGQAAMkQzAABkiGYAAMgQzQAAkCGaAQAgQzQDAECGaAYAgAzRDAAAGaIZAAAyRDMAAGSI\n",
              "ZgAAyBDNAACQIZoBACCjR7EH2F2llCIioqWlpciTAACwLX369ImSkpJtHiOa3yGrV6+OiIj999+/\n",
              "yJMAALAtzc3NUV5evs1jRPM7pG/fvhER0djYGBUVFUWehu3R0tIS+++/f7z44ovZJxCdi7Xruqxd\n",
              "12Xtui5r9//16dMne4xofod06/bft4tXVFTs8f8hdlXl5eXWrouydl2Xteu6rF3XZe3eGr8ICAAA\n",
              "GaIZAAAyRPM7pLS0NK666qooLS0t9ihsJ2vXdVm7rsvadV3WruuydtunJL3x2WgAAECHXGkGAIAM\n",
              "0QwAABmiGQAAMkQzAABkiOZ3yM033xwHHnhgvOtd74pRo0bFk08+WeyReJOrr746SkpK2n0dfvjh\n",
              "hf2vvfZaTJo0KfbZZ58oKyuL008/PV566aUiTrzneuyxx+KUU06JgQMHRklJSdxzzz3t9qeU4sor\n",
              "r4yampro3bt3jBkzJp5//vl2x6xZsybOPPPMKC8vj8rKyjjnnHNi/fr1u/BR7Jlyazdx4sQtnofj\n",
              "xo1rd4y12/Xq6uri6KOPjj59+kT//v3jk5/8ZCxbtqzdMW/lNbKxsTE++tGPxl577RX9+/ePyy67\n",
              "LF5//fVd+VD2OG9l7U444YQtnnfnn39+u2Os3ZZE8zvg17/+dUyZMiWuuuqqWLBgQQwfPjxOPvnk\n",
              "WLVqVbFH403e+973xsqVKwtfc+fOLeybPHly/P73v48777wz5syZE//+97/jtNNOK+K0e65XXnkl\n",
              "hg8fHjfffHOH+7/1rW/FjTfeGLfcckvMmzcv3v3ud8fJJ58cr732WuGYM888M5YsWRIPPfRQ3Hvv\n",
              "vfHYY4/Feeedt6sewh4rt3YREePGjWv3PPzVr37Vbr+12/XmzJkTkyZNiieeeCIeeuih2LRpU4wd\n",
              "OzZeeeWVwjG518jNmzfHRz/60di4cWP8+c9/jhkzZsT06dPjyiuvLMZD2mO8lbWLiDj33HPbPe++\n",
              "9a1vFfZZu61I7HTHHHNMmjRpUuH25s2b08CBA1NdXV0Rp+LNrrrqqjR8+PAO961duzb17Nkz3Xnn\n",
              "nYVtf/3rX1NEpPr6+l00IR2JiHT33XcXbre1taUBAwakb3/724Vta9euTaWlpelXv/pVSimlpUuX\n",
              "pohITz31VOGY+++/P5WUlKR//etfu2z2Pd2b1y6llM4666z0iU98YqvnWLvOYdWqVSki0pw5c1JK\n",
              "b+018g9/+EPq1q1bampqKhzzox/9KJWXl6cNGzbs2gewB3vz2qWU0ujRo9NXvvKVrZ5j7TrmSvNO\n",
              "tnHjxnj66adjzJgxhW3dunWLMWPGRH19fREnoyPPP/98DBw4MIYMGRJnnnlmNDY2RkTE008/HZs2\n",
              "bWq3jocffngccMAB1rGTWbFiRTQ1NbVbq4qKihg1alRhrerr66OysjLe//73F44ZM2ZMdOvWLebN\n",
              "m7fLZ6a92bNnR//+/eOwww6LCy64IFavXl3YZ+06h+bm5oiI6Nu3b0S8tdfI+vr6OPLII6O6urpw\n",
              "zMknnxwtLS2xZMmSXTj9nu3Na/eGX/ziF1FVVRVDhw6NqVOnRmtra2GftetYj2IPsLt5+eWXY/Pm\n",
              "ze3+Q4uIqK6ujr/97W9FmoqOjBo1KqZPnx6HHXZYrFy5Mq655po4/vjj49lnn42mpqbo1atXVFZW\n",
              "tjunuro6mpqaijMwHXpjPTp6zr2xr6mpKfr3799uf48ePaJv377Ws8jGjRsXp512WgwePDgaGhpi\n",
              "2rRpMX78+Kivr4/u3btbu06gra0tLrnkkvjgBz8YQ4cOjYh4S6+RTU1NHT4v39jHO6+jtYuI+Nzn\n",
              "PheDBg2KgQMHxuLFi+Pyyy+PZcuWxV133RUR1m5rRDN7rPHjxxe+HzZsWIwaNSoGDRoUd9xxR/Tu\n",
              "3buIk8Ge47Of/Wzh+yOPPDKGDRsWBx10UMyePTtOPPHEIk7GGyZNmhTPPvtsu9/5oGvY2tr97+8E\n",
              "HHnkkVFTUxMnnnhiNDQ0xEEHHbSrx+wyvD1jJ6uqqoru3btv8RvEL730UgwYMKBIU/FWVFZWxqGH\n",
              "HhrLly+PAQMGxMaNG2Pt2rXtjrGOnc8b67Gt59yAAQO2+EXc119/PdasWWM9O5khQ4ZEVVVVLF++\n",
              "PCKsXbFddNFFce+998asWbNiv/32K2x/K6+RAwYM6PB5+cY+3llbW7uOjBo1KiKi3fPO2m1JNO9k\n",
              "vXr1iqOOOioeeeSRwra2trZ45JFHora2toiTkbN+/fpoaGiImpqaOOqoo6Jnz57t1nHZsmXR2Nho\n",
              "HTuZwYMHx4ABA9qtVUtLS8ybN6+wVrW1tbF27dp4+umnC8c8+uij0dbWVvifBZ3DP//5z1i9enXU\n",
              "1NREhLUrlpRSXHTRRXH33XfHo48+GoMHD263/628RtbW1sYzzzzT7i89Dz30UJSXl8cRRxyxax7I\n",
              "Hii3dh1ZtGhRRES7552160CxfxNxd3T77ben0tLSNH369LR06dJ03nnnpcrKyna/hUrxffWrX02z\n",
              "Z89OK1asSI8//ngaM2ZMqqqqSqtWrUoppXT++eenAw44ID366KNp/vz5qba2NtXW1hZ56j3TunXr\n",
              "0sKFC9PChQtTRKTvfve7aeHChekf//hHSimlG264IVVWVqbf/e53afHixekTn/hEGjx4cHr11VcL\n",
              "9zFu3Lg0YsSING/evDR37tx0yCGHpAkTJhTrIe0xtrV269atS5deemmqr69PK1asSA8//HAaOXJk\n",
              "OuSQQ9Jrr71WuA9rt+tdcMEFqaKiIs2ePTutXLmy8NXa2lo4Jvca+frrr6ehQ4emsWPHpkWLFqUH\n",
              "Hngg9evXL02dOrUYD2mPkVu75cuXp2uvvTbNnz8/rVixIv3ud79LQ4YMSR/60IcK92HtOiaa3yE3\n",
              "3XRTOuCAA1KvXr3SMccck5544olij8SbnHHGGammpib16tUr7bvvvumMM85Iy5cvL+x/9dVX04UX\n",
              "Xpj23nvvtNdee6VTTz01rVy5sogT77lmzZqVImKLr7POOiul9N+Pnfva176WqqurU2lpaTrxxBPT\n",
              "smXL2t3H6tWr04QJE1JZWVkqLy9PZ599dlq3bl0RHs2eZVtr19ramsaOHZv69euXevbsmQYNGpTO\n",
              "PffcLS4wWLtdr6M1i4j0s5/9rHDMW3mNfOGFF9L48eNT7969U1VVVfrqV7+aNm3atIsfzZ4lt3aN\n",
              "jY3pQx/6UOrbt28qLS1NBx98cLrssstSc3Nzu/uxdlsqSSmlXXddGwAAuh7vaQYAgAzRDAAAGaIZ\n",
              "AAAyRDMAAGSIZgAAyBDNAACQIZoBACBDNAMAQIZoBgCADNEMAAAZohkAADJEMwAAZPw/1sZQvINJ\n",
              "dkoAAAAASUVORK5CYII=\n",
              "\">\n",
              "        <script></script>"
            ],
            "text/plain": [
              "<google.colab._quickchart_lib.MplChart at 0x7bf7a7f75030>"
            ]
          },
          "metadata": {},
          "execution_count": 114
        }
      ]
    },
    {
      "cell_type": "markdown",
      "source": [
        "\n",
        "\n",
        "> Treating NULL\n",
        "\n"
      ],
      "metadata": {
        "id": "lOJESA7vg0Ia"
      }
    },
    {
      "cell_type": "code",
      "source": [
        "from pyspark.sql.functions import isnull, when, count"
      ],
      "metadata": {
        "id": "BIxz7gyKZqss"
      },
      "execution_count": null,
      "outputs": []
    },
    {
      "cell_type": "code",
      "source": [
        "null_counts = train_data.select([count(when(isnull(c), c)).alias(c) for c in train_data.columns])\n",
        "null_counts.show()"
      ],
      "metadata": {
        "colab": {
          "base_uri": "https://localhost:8080/"
        },
        "id": "dUPAr8pLZThL",
        "outputId": "9bca1525-605e-40b9-dc96-c82ef269c16a"
      },
      "execution_count": null,
      "outputs": [
        {
          "output_type": "stream",
          "name": "stdout",
          "text": [
            "+-----------+--------+------+----+---+---+-----+-----+------+----+-----+--------+\n",
            "|PassengerId|Survived|Pclass|Name|Sex|Age|SibSp|Parch|Ticket|Fare|Cabin|Embarked|\n",
            "+-----------+--------+------+----+---+---+-----+-----+------+----+-----+--------+\n",
            "|          0|       0|     0|   0|  0|177|    0|    0|     0|   0|  687|       2|\n",
            "+-----------+--------+------+----+---+---+-----+-----+------+----+-----+--------+\n",
            "\n"
          ]
        }
      ]
    },
    {
      "cell_type": "markdown",
      "source": [
        "\n",
        "\n",
        "> Imputing MEAN to the age column\n",
        "\n"
      ],
      "metadata": {
        "id": "BPcRF54sg4EZ"
      }
    },
    {
      "cell_type": "code",
      "source": [
        "from pyspark.sql.functions import mean\n",
        "mean_age = train_data.select(mean(train_data['Age'])).collect()[0][0]"
      ],
      "metadata": {
        "id": "ICKItouAYlaj"
      },
      "execution_count": null,
      "outputs": []
    },
    {
      "cell_type": "markdown",
      "source": [
        "\n",
        "\n",
        "> Droping the missing values based on Embarked column\n",
        "\n"
      ],
      "metadata": {
        "id": "p4fDgLusg_Wf"
      }
    },
    {
      "cell_type": "code",
      "source": [
        "train_data = train_data.na.drop(subset=[\"Embarked\"])"
      ],
      "metadata": {
        "id": "QQVB1K0Hbw00"
      },
      "execution_count": null,
      "outputs": []
    },
    {
      "cell_type": "code",
      "source": [
        "null_counts = train_data.select([count(when(isnull(c), c)).alias(c) for c in train_data.columns])\n",
        "null_counts.show()"
      ],
      "metadata": {
        "colab": {
          "base_uri": "https://localhost:8080/"
        },
        "id": "1T9_2JoRasWD",
        "outputId": "a7cc7cb1-c4c5-4b68-a476-4a9b2e5954c8"
      },
      "execution_count": null,
      "outputs": [
        {
          "output_type": "stream",
          "name": "stdout",
          "text": [
            "+--------+------+---+---+-----+-----+----+--------+\n",
            "|Survived|Pclass|Sex|Age|SibSp|Parch|Fare|Embarked|\n",
            "+--------+------+---+---+-----+-----+----+--------+\n",
            "|       0|     0|  0|  0|    0|    0|   0|       0|\n",
            "+--------+------+---+---+-----+-----+----+--------+\n",
            "\n"
          ]
        }
      ]
    },
    {
      "cell_type": "markdown",
      "source": [
        "\n",
        "\n",
        "> Droping the unwanted columns\n",
        "\n",
        "\n",
        "\n"
      ],
      "metadata": {
        "id": "DfbzlQSdhQP8"
      }
    },
    {
      "cell_type": "code",
      "source": [
        "train_data = train_data.drop('PassengerID', 'Cabin', 'Name', 'Ticket', 'Title')"
      ],
      "metadata": {
        "id": "B6AU3wAkaXyn"
      },
      "execution_count": null,
      "outputs": []
    },
    {
      "cell_type": "code",
      "source": [
        "train_data.show()"
      ],
      "metadata": {
        "colab": {
          "base_uri": "https://localhost:8080/"
        },
        "id": "ki9zvkVxaqfW",
        "outputId": "60f2da51-cd5d-47d2-b3ec-f068ff43ffb4"
      },
      "execution_count": null,
      "outputs": [
        {
          "output_type": "stream",
          "name": "stdout",
          "text": [
            "+--------+------+------+-----------------+-----+-----+-------+--------+\n",
            "|Survived|Pclass|   Sex|              Age|SibSp|Parch|   Fare|Embarked|\n",
            "+--------+------+------+-----------------+-----+-----+-------+--------+\n",
            "|       0|     3|  male|             22.0|    1|    0|   7.25|       S|\n",
            "|       1|     1|female|             38.0|    1|    0|71.2833|       C|\n",
            "|       1|     3|female|             26.0|    0|    0|  7.925|       S|\n",
            "|       1|     1|female|             35.0|    1|    0|   53.1|       S|\n",
            "|       0|     3|  male|             35.0|    0|    0|   8.05|       S|\n",
            "|       0|     3|  male|29.69911764705882|    0|    0| 8.4583|       Q|\n",
            "|       0|     1|  male|             54.0|    0|    0|51.8625|       S|\n",
            "|       0|     3|  male|              2.0|    3|    1| 21.075|       S|\n",
            "|       1|     3|female|             27.0|    0|    2|11.1333|       S|\n",
            "|       1|     2|female|             14.0|    1|    0|30.0708|       C|\n",
            "|       1|     3|female|              4.0|    1|    1|   16.7|       S|\n",
            "|       1|     1|female|             58.0|    0|    0|  26.55|       S|\n",
            "|       0|     3|  male|             20.0|    0|    0|   8.05|       S|\n",
            "|       0|     3|  male|             39.0|    1|    5| 31.275|       S|\n",
            "|       0|     3|female|             14.0|    0|    0| 7.8542|       S|\n",
            "|       1|     2|female|             55.0|    0|    0|   16.0|       S|\n",
            "|       0|     3|  male|              2.0|    4|    1| 29.125|       Q|\n",
            "|       1|     2|  male|29.69911764705882|    0|    0|   13.0|       S|\n",
            "|       0|     3|female|             31.0|    1|    0|   18.0|       S|\n",
            "|       1|     3|female|29.69911764705882|    0|    0|  7.225|       C|\n",
            "+--------+------+------+-----------------+-----+-----+-------+--------+\n",
            "only showing top 20 rows\n",
            "\n"
          ]
        }
      ]
    },
    {
      "cell_type": "markdown",
      "source": [
        "**Modeling**"
      ],
      "metadata": {
        "id": "4OWr7jfxhW31"
      }
    },
    {
      "cell_type": "code",
      "source": [
        "from pyspark.ml.feature import StringIndexer, VectorAssembler\n",
        "from pyspark.ml.classification import LogisticRegression,RandomForestClassifier, GBTClassifier\n",
        "from pyspark.ml.evaluation import MulticlassClassificationEvaluator"
      ],
      "metadata": {
        "id": "1Jb8D-RtavCd"
      },
      "execution_count": null,
      "outputs": []
    },
    {
      "cell_type": "code",
      "source": [
        "from pyspark.ml import Pipeline\n",
        "from pyspark.ml.tuning import CrossValidator, ParamGridBuilder"
      ],
      "metadata": {
        "id": "vEyudeLTd8rO"
      },
      "execution_count": null,
      "outputs": []
    },
    {
      "cell_type": "markdown",
      "source": [
        "\n",
        "\n",
        "> String Indexer\n",
        "\n"
      ],
      "metadata": {
        "id": "h3I2RCcmhc78"
      }
    },
    {
      "cell_type": "code",
      "source": [
        "stringIndex = StringIndexer(inputCols=['Sex', 'Embarked'],outputCols=['Sex_', 'Embarked_'])\n",
        "\n",
        "stringIndex_model = stringIndex.fit(train_data)"
      ],
      "metadata": {
        "id": "2Yv1vBvvd9Nf"
      },
      "execution_count": null,
      "outputs": []
    },
    {
      "cell_type": "code",
      "source": [
        "train_data = stringIndex_model.transform(train_data).drop('Sex', 'Embarked')"
      ],
      "metadata": {
        "id": "VDEc3YnseIBy"
      },
      "execution_count": null,
      "outputs": []
    },
    {
      "cell_type": "markdown",
      "source": [
        "\n",
        "\n",
        "> Vector assembler\n",
        "\n"
      ],
      "metadata": {
        "id": "ivdLomSchh8j"
      }
    },
    {
      "cell_type": "code",
      "source": [
        "vector_assembler = VectorAssembler(inputCols=train_data.columns[1:],outputCol='features')\n",
        "\n",
        "train_data = vector_assembler.transform(train_data).select('features', 'Survived')"
      ],
      "metadata": {
        "id": "5swjNptQeStL"
      },
      "execution_count": null,
      "outputs": []
    },
    {
      "cell_type": "code",
      "source": [
        "train_df, valid_df = train_data.randomSplit([0.7, 0.3])"
      ],
      "metadata": {
        "id": "8Mq7RLHNee1P"
      },
      "execution_count": null,
      "outputs": []
    },
    {
      "cell_type": "markdown",
      "source": [
        "\n",
        "\n",
        "> Evaluator\n",
        "\n"
      ],
      "metadata": {
        "id": "JWv_R0QohlIY"
      }
    },
    {
      "cell_type": "code",
      "source": [
        "evaluator = MulticlassClassificationEvaluator(labelCol='Survived',metricName='accuracy')"
      ],
      "metadata": {
        "id": "cCAX0aCXejuq"
      },
      "execution_count": null,
      "outputs": []
    },
    {
      "cell_type": "markdown",
      "source": [
        "***GBT Classifier***"
      ],
      "metadata": {
        "id": "rMcEpkgVhoY9"
      }
    },
    {
      "cell_type": "code",
      "source": [
        "gb = GBTClassifier(labelCol='Survived', maxIter=75, maxDepth=3)\n",
        "\n",
        "model = gb.fit(train_df)\n",
        "pred_gb = model.transform(valid_df)\n",
        "evaluator.evaluate(pred_gb)\n"
      ],
      "metadata": {
        "colab": {
          "base_uri": "https://localhost:8080/"
        },
        "id": "NJL1uyQKez8O",
        "outputId": "e086e140-e092-44d2-ea36-59bbf9f45248"
      },
      "execution_count": null,
      "outputs": [
        {
          "output_type": "execute_result",
          "data": {
            "text/plain": [
              "0.8110236220472441"
            ]
          },
          "metadata": {},
          "execution_count": 162
        }
      ]
    },
    {
      "cell_type": "markdown",
      "source": [
        "***Lasso Regression***"
      ],
      "metadata": {
        "id": "Jddj2ivxhvBm"
      }
    },
    {
      "cell_type": "code",
      "source": [
        "lasso = LogisticRegression(labelCol='Survived',maxIter=100,elasticNetParam=1,regParam=0.0003)\n",
        "\n",
        "model = lasso.fit(train_df)\n",
        "pred_la = model.transform(valid_df)\n",
        "evaluator.evaluate(pred_la)"
      ],
      "metadata": {
        "colab": {
          "base_uri": "https://localhost:8080/"
        },
        "id": "XDdDkOWSevGT",
        "outputId": "1d09be24-00b5-4ed4-e504-fa5b03003b40"
      },
      "execution_count": null,
      "outputs": [
        {
          "output_type": "execute_result",
          "data": {
            "text/plain": [
              "0.8031496062992126"
            ]
          },
          "metadata": {},
          "execution_count": 161
        }
      ]
    },
    {
      "cell_type": "markdown",
      "source": [
        "***Random Forest Classifier***"
      ],
      "metadata": {
        "id": "qLlRReu_hzTG"
      }
    },
    {
      "cell_type": "code",
      "source": [
        "rf = RandomForestClassifier(labelCol='Survived',numTrees=100, maxDepth=3)\n",
        "\n",
        "model = rf.fit(train_df)\n",
        "pred_rf = model.transform(valid_df)\n",
        "evaluator.evaluate(pred_rf)"
      ],
      "metadata": {
        "colab": {
          "base_uri": "https://localhost:8080/"
        },
        "id": "uWUOOEYwevDH",
        "outputId": "50c1589a-d44f-4dd5-e290-efeb99497af9"
      },
      "execution_count": null,
      "outputs": [
        {
          "output_type": "execute_result",
          "data": {
            "text/plain": [
              "0.8188976377952756"
            ]
          },
          "metadata": {},
          "execution_count": 163
        }
      ]
    },
    {
      "cell_type": "markdown",
      "source": [
        "***Logistic Regression***"
      ],
      "metadata": {
        "id": "l3ko-jTbh2vN"
      }
    },
    {
      "cell_type": "code",
      "source": [
        "ridge = LogisticRegression(labelCol='Survived',maxIter=100,elasticNetParam=0,regParam=0.03)\n",
        "\n",
        "model = ridge.fit(train_df)\n",
        "pred_rg = model.transform(valid_df)\n",
        "evaluator.evaluate(pred_rg)"
      ],
      "metadata": {
        "colab": {
          "base_uri": "https://localhost:8080/"
        },
        "id": "31ygNmuLerDC",
        "outputId": "c2e4b1c1-0b15-49ba-dfe3-a55241b941ae"
      },
      "execution_count": null,
      "outputs": [
        {
          "output_type": "execute_result",
          "data": {
            "text/plain": [
              "0.7913385826771654"
            ]
          },
          "metadata": {},
          "execution_count": 164
        }
      ]
    },
    {
      "cell_type": "markdown",
      "source": [
        "**Model Evaluation**"
      ],
      "metadata": {
        "id": "khmjISF9h8kR"
      }
    },
    {
      "cell_type": "code",
      "source": [
        "from pyspark.ml.classification import LogisticRegression, DecisionTreeClassifier, RandomForestClassifier, GBTClassifier, LinearSVC\n",
        "from pyspark.ml.evaluation import BinaryClassificationEvaluator\n",
        "\n",
        "classifiers = [LogisticRegression(labelCol='Survived', maxIter=100, elasticNetParam=0, regParam=0.03),\n",
        "               DecisionTreeClassifier(labelCol='Survived'),\n",
        "               RandomForestClassifier(labelCol='Survived'),\n",
        "               GBTClassifier(labelCol='Survived', maxIter=10),\n",
        "               LinearSVC(labelCol='Survived')]\n",
        "\n",
        "results = {}\n",
        "\n",
        "for classifier in classifiers:\n",
        "    model = classifier.fit(train_df)\n",
        "    predictions = model.transform(valid_df)\n",
        "\n",
        "    evaluator = BinaryClassificationEvaluator(labelCol='Survived')\n",
        "    auc = evaluator.evaluate(predictions)\n",
        "\n",
        "    results[classifier.__class__.__name__] = auc\n",
        "\n",
        "best_classifier = max(results, key=results.get)\n",
        "best_auc = results[best_classifier]\n",
        "\n",
        "print(\"Results:\")\n",
        "for classifier, auc in results.items():\n",
        "    print(f\"{classifier}: AUC = {auc}\")\n",
        "\n",
        "print(f\"Best Classifier: {best_classifier} with AUC = {best_auc}\")\n"
      ],
      "metadata": {
        "colab": {
          "base_uri": "https://localhost:8080/"
        },
        "id": "WNSwhqiaesud",
        "outputId": "e4f20d5f-fe1d-4240-a31a-659b2a768902"
      },
      "execution_count": null,
      "outputs": [
        {
          "output_type": "stream",
          "name": "stdout",
          "text": [
            "Results:\n",
            "LogisticRegression: AUC = 0.8592506309454483\n",
            "DecisionTreeClassifier: AUC = 0.6118229470005824\n",
            "RandomForestClassifier: AUC = 0.8669190448456608\n",
            "GBTClassifier: AUC = 0.8421342134213424\n",
            "LinearSVC: AUC = 0.8119459004724002\n",
            "Best Classifier: RandomForestClassifier with AUC = 0.8669190448456608\n"
          ]
        }
      ]
    },
    {
      "cell_type": "markdown",
      "source": [
        "The Random Forest model did an excellent job in accurately predicting passenger survival on the Titanic dataset with an impressive accuracy rate of 86.6%, showcasing its effectiveness in the field of machine learning."
      ],
      "metadata": {
        "id": "Bd14eFRXiBBj"
      }
    }
  ]
}